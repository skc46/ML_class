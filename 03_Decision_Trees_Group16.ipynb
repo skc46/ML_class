{
 "cells": [
  {
   "cell_type": "markdown",
   "metadata": {
    "id": "IBpSWlQP6jfc"
   },
   "source": [
    "**Chapter 6 – Decision Trees**"
   ]
  },
  {
   "cell_type": "markdown",
   "metadata": {
    "id": "AXoDQa376jfg"
   },
   "source": [
    "_This notebook contains all the sample code and solutions to the exercises in chapter 6._"
   ]
  },
  {
   "cell_type": "markdown",
   "metadata": {
    "id": "HupFVXzt6jfg"
   },
   "source": [
    "<table align=\"left\">\n",
    "  <td>\n",
    "    <a target=\"_blank\" href=\"https://colab.research.google.com/github/UAPH4582/PH482_582/blob/main/03_Decision_Trees.ipynb\"><img src=\"https://www.tensorflow.org/images/colab_logo_32px.png\" />Run in Google Colab</a>\n",
    "  </td>\n",
    "</table>"
   ]
  },
  {
   "cell_type": "markdown",
   "metadata": {
    "id": "OkfmthzG6jfh"
   },
   "source": [
    "# Setup"
   ]
  },
  {
   "cell_type": "markdown",
   "metadata": {
    "id": "or9JX6kK6jfh"
   },
   "source": [
    "First, let's import a few common modules, ensure MatplotLib plots figures inline and prepare a function to save the figures. We also check that Python 3.5 or later is installed (although Python 2.x may work, it is deprecated so we strongly recommend you use Python 3 instead), as well as Scikit-Learn ≥0.20."
   ]
  },
  {
   "cell_type": "code",
   "execution_count": 1,
   "metadata": {
    "executionInfo": {
     "elapsed": 969,
     "status": "ok",
     "timestamp": 1613152664425,
     "user": {
      "displayName": "A B M Rafi (Rafi) Sazzad",
      "photoUrl": "",
      "userId": "16735321769566946040"
     },
     "user_tz": 360
    },
    "id": "si9Q-f0l6jfh"
   },
   "outputs": [],
   "source": [
    "# Python ≥3.5 is required\n",
    "import sys\n",
    "assert sys.version_info >= (3, 5)\n",
    "\n",
    "# Scikit-Learn ≥0.20 is required\n",
    "import sklearn\n",
    "assert sklearn.__version__ >= \"0.20\"\n",
    "\n",
    "# Common imports\n",
    "import numpy as np\n",
    "import os\n",
    "\n",
    "# to make this notebook's output stable across runs\n",
    "np.random.seed(42)\n",
    "\n",
    "# To plot pretty figures\n",
    "%matplotlib inline\n",
    "import matplotlib as mpl\n",
    "import matplotlib.pyplot as plt\n",
    "mpl.rc('axes', labelsize=14)\n",
    "mpl.rc('xtick', labelsize=12)\n",
    "mpl.rc('ytick', labelsize=12)"
   ]
  },
  {
   "cell_type": "markdown",
   "metadata": {
    "id": "c5t2Ww036jfi"
   },
   "source": [
    "# Training and visualizing"
   ]
  },
  {
   "cell_type": "markdown",
   "metadata": {
    "id": "mn61Zats6jfi"
   },
   "source": [
    "### Task 1 \n",
    "\n",
    "Build a simple decision tree classifier with max_depth of 2 and random state of 42. Fit the training values obtained from the iris dataset. "
   ]
  },
  {
   "cell_type": "code",
   "execution_count": 2,
   "metadata": {
    "colab": {
     "base_uri": "https://localhost:8080/"
    },
    "executionInfo": {
     "elapsed": 609,
     "status": "ok",
     "timestamp": 1613152668751,
     "user": {
      "displayName": "A B M Rafi (Rafi) Sazzad",
      "photoUrl": "",
      "userId": "16735321769566946040"
     },
     "user_tz": 360
    },
    "id": "cT9pFkrY6jfi",
    "outputId": "a369f145-8773-4043-d03c-e846439a9132"
   },
   "outputs": [
    {
     "data": {
      "text/plain": [
       "DecisionTreeClassifier(ccp_alpha=0.0, class_weight=None, criterion='gini',\n",
       "                       max_depth=2, max_features=None, max_leaf_nodes=None,\n",
       "                       min_impurity_decrease=0.0, min_impurity_split=None,\n",
       "                       min_samples_leaf=1, min_samples_split=2,\n",
       "                       min_weight_fraction_leaf=0.0, presort='deprecated',\n",
       "                       random_state=42, splitter='best')"
      ]
     },
     "execution_count": 2,
     "metadata": {
      "tags": []
     },
     "output_type": "execute_result"
    }
   ],
   "source": [
    "from sklearn.datasets import load_iris\n",
    "from sklearn.tree import DecisionTreeClassifier\n",
    "\n",
    "iris = load_iris()\n",
    "X = iris.data[:, 2:] # petal length and width\n",
    "y = iris.target\n",
    "\n",
    "tree_clf = DecisionTreeClassifier(max_depth=2, random_state=42)\n",
    "tree_clf.fit(X,y)\n"
   ]
  },
  {
   "cell_type": "markdown",
   "metadata": {
    "id": "co27hsKo6jfi"
   },
   "source": [
    "**Note** Next step requires the GraphViz executable installed. Since there is a lot of additional work, it is recommended to work through a Colab notebook instead. However, if you'd like to continue working locally, follow the steps below. \n",
    "\n",
    "To intall GraphViz, download it here: https://graphviz.org/download/\n",
    "\n",
    "During the installation, make sure its path was added to the Path environmental variable. For your user, add the path to the bin folder, for the system environmental variable, add the path to the ```dot.exe``` file. \n",
    "```\n",
    "C:\\Program Files (x86)\\Graphviz2.38\\bin\n",
    "C:\\Program Files (x86)\\Graphviz2.38\\bin\\dot.exe\n",
    "``` \n",
    "\n",
    "Then, you can use pip or conda to install the package: ```pip install graphiz``` or ```conda install graphiz```\n",
    "\n",
    "Finally, close your Jupyter notebook, close the command promt executing it and restart both. "
   ]
  },
  {
   "cell_type": "code",
   "execution_count": 3,
   "metadata": {
    "colab": {
     "base_uri": "https://localhost:8080/",
     "height": 440
    },
    "executionInfo": {
     "elapsed": 439,
     "status": "ok",
     "timestamp": 1613152675194,
     "user": {
      "displayName": "A B M Rafi (Rafi) Sazzad",
      "photoUrl": "",
      "userId": "16735321769566946040"
     },
     "user_tz": 360
    },
    "id": "sfpuVDZh6jfj",
    "outputId": "3c6e4416-6492-4fcd-caa6-06aa43e0408c"
   },
   "outputs": [
    {
     "data": {
      "image/svg+xml": [
       "<?xml version=\"1.0\" encoding=\"UTF-8\" standalone=\"no\"?>\n",
       "<!DOCTYPE svg PUBLIC \"-//W3C//DTD SVG 1.1//EN\"\n",
       " \"http://www.w3.org/Graphics/SVG/1.1/DTD/svg11.dtd\">\n",
       "<!-- Generated by graphviz version 2.40.1 (20161225.0304)\n",
       " -->\n",
       "<!-- Title: Tree Pages: 1 -->\n",
       "<svg width=\"368pt\" height=\"314pt\"\n",
       " viewBox=\"0.00 0.00 368.00 314.00\" xmlns=\"http://www.w3.org/2000/svg\" xmlns:xlink=\"http://www.w3.org/1999/xlink\">\n",
       "<g id=\"graph0\" class=\"graph\" transform=\"scale(1 1) rotate(0) translate(4 310)\">\n",
       "<title>Tree</title>\n",
       "<polygon fill=\"#ffffff\" stroke=\"transparent\" points=\"-4,4 -4,-310 364,-310 364,4 -4,4\"/>\n",
       "<!-- 0 -->\n",
       "<g id=\"node1\" class=\"node\">\n",
       "<title>0</title>\n",
       "<path fill=\"#ffffff\" stroke=\"#000000\" d=\"M219.5,-306C219.5,-306 67.5,-306 67.5,-306 61.5,-306 55.5,-300 55.5,-294 55.5,-294 55.5,-235 55.5,-235 55.5,-229 61.5,-223 67.5,-223 67.5,-223 219.5,-223 219.5,-223 225.5,-223 231.5,-229 231.5,-235 231.5,-235 231.5,-294 231.5,-294 231.5,-300 225.5,-306 219.5,-306\"/>\n",
       "<text text-anchor=\"middle\" x=\"143.5\" y=\"-290.8\" font-family=\"Helvetica,sans-Serif\" font-size=\"14.00\" fill=\"#000000\">petal length (cm) &lt;= 2.45</text>\n",
       "<text text-anchor=\"middle\" x=\"143.5\" y=\"-275.8\" font-family=\"Helvetica,sans-Serif\" font-size=\"14.00\" fill=\"#000000\">gini = 0.667</text>\n",
       "<text text-anchor=\"middle\" x=\"143.5\" y=\"-260.8\" font-family=\"Helvetica,sans-Serif\" font-size=\"14.00\" fill=\"#000000\">samples = 150</text>\n",
       "<text text-anchor=\"middle\" x=\"143.5\" y=\"-245.8\" font-family=\"Helvetica,sans-Serif\" font-size=\"14.00\" fill=\"#000000\">value = [50, 50, 50]</text>\n",
       "<text text-anchor=\"middle\" x=\"143.5\" y=\"-230.8\" font-family=\"Helvetica,sans-Serif\" font-size=\"14.00\" fill=\"#000000\">class = setosa</text>\n",
       "</g>\n",
       "<!-- 1 -->\n",
       "<g id=\"node2\" class=\"node\">\n",
       "<title>1</title>\n",
       "<path fill=\"#e58139\" stroke=\"#000000\" d=\"M111,-179.5C111,-179.5 12,-179.5 12,-179.5 6,-179.5 0,-173.5 0,-167.5 0,-167.5 0,-123.5 0,-123.5 0,-117.5 6,-111.5 12,-111.5 12,-111.5 111,-111.5 111,-111.5 117,-111.5 123,-117.5 123,-123.5 123,-123.5 123,-167.5 123,-167.5 123,-173.5 117,-179.5 111,-179.5\"/>\n",
       "<text text-anchor=\"middle\" x=\"61.5\" y=\"-164.3\" font-family=\"Helvetica,sans-Serif\" font-size=\"14.00\" fill=\"#000000\">gini = 0.0</text>\n",
       "<text text-anchor=\"middle\" x=\"61.5\" y=\"-149.3\" font-family=\"Helvetica,sans-Serif\" font-size=\"14.00\" fill=\"#000000\">samples = 50</text>\n",
       "<text text-anchor=\"middle\" x=\"61.5\" y=\"-134.3\" font-family=\"Helvetica,sans-Serif\" font-size=\"14.00\" fill=\"#000000\">value = [50, 0, 0]</text>\n",
       "<text text-anchor=\"middle\" x=\"61.5\" y=\"-119.3\" font-family=\"Helvetica,sans-Serif\" font-size=\"14.00\" fill=\"#000000\">class = setosa</text>\n",
       "</g>\n",
       "<!-- 0&#45;&gt;1 -->\n",
       "<g id=\"edge1\" class=\"edge\">\n",
       "<title>0&#45;&gt;1</title>\n",
       "<path fill=\"none\" stroke=\"#000000\" d=\"M114.8204,-222.8796C107.0917,-211.6636 98.7191,-199.5131 90.9492,-188.2372\"/>\n",
       "<polygon fill=\"#000000\" stroke=\"#000000\" points=\"93.7018,-186.0634 85.1456,-179.8149 87.9377,-190.0353 93.7018,-186.0634\"/>\n",
       "<text text-anchor=\"middle\" x=\"80.6196\" y=\"-200.7018\" font-family=\"Helvetica,sans-Serif\" font-size=\"14.00\" fill=\"#000000\">True</text>\n",
       "</g>\n",
       "<!-- 2 -->\n",
       "<g id=\"node3\" class=\"node\">\n",
       "<title>2</title>\n",
       "<path fill=\"#ffffff\" stroke=\"#000000\" d=\"M299.5,-187C299.5,-187 153.5,-187 153.5,-187 147.5,-187 141.5,-181 141.5,-175 141.5,-175 141.5,-116 141.5,-116 141.5,-110 147.5,-104 153.5,-104 153.5,-104 299.5,-104 299.5,-104 305.5,-104 311.5,-110 311.5,-116 311.5,-116 311.5,-175 311.5,-175 311.5,-181 305.5,-187 299.5,-187\"/>\n",
       "<text text-anchor=\"middle\" x=\"226.5\" y=\"-171.8\" font-family=\"Helvetica,sans-Serif\" font-size=\"14.00\" fill=\"#000000\">petal width (cm) &lt;= 1.75</text>\n",
       "<text text-anchor=\"middle\" x=\"226.5\" y=\"-156.8\" font-family=\"Helvetica,sans-Serif\" font-size=\"14.00\" fill=\"#000000\">gini = 0.5</text>\n",
       "<text text-anchor=\"middle\" x=\"226.5\" y=\"-141.8\" font-family=\"Helvetica,sans-Serif\" font-size=\"14.00\" fill=\"#000000\">samples = 100</text>\n",
       "<text text-anchor=\"middle\" x=\"226.5\" y=\"-126.8\" font-family=\"Helvetica,sans-Serif\" font-size=\"14.00\" fill=\"#000000\">value = [0, 50, 50]</text>\n",
       "<text text-anchor=\"middle\" x=\"226.5\" y=\"-111.8\" font-family=\"Helvetica,sans-Serif\" font-size=\"14.00\" fill=\"#000000\">class = versicolor</text>\n",
       "</g>\n",
       "<!-- 0&#45;&gt;2 -->\n",
       "<g id=\"edge2\" class=\"edge\">\n",
       "<title>0&#45;&gt;2</title>\n",
       "<path fill=\"none\" stroke=\"#000000\" d=\"M172.5294,-222.8796C178.6855,-214.0534 185.2451,-204.6485 191.5936,-195.5466\"/>\n",
       "<polygon fill=\"#000000\" stroke=\"#000000\" points=\"194.4967,-197.5024 197.3467,-187.2981 188.7552,-193.4978 194.4967,-197.5024\"/>\n",
       "<text text-anchor=\"middle\" x=\"201.7331\" y=\"-208.2103\" font-family=\"Helvetica,sans-Serif\" font-size=\"14.00\" fill=\"#000000\">False</text>\n",
       "</g>\n",
       "<!-- 3 -->\n",
       "<g id=\"node4\" class=\"node\">\n",
       "<title>3</title>\n",
       "<path fill=\"#4de88e\" stroke=\"#000000\" d=\"M206.5,-68C206.5,-68 102.5,-68 102.5,-68 96.5,-68 90.5,-62 90.5,-56 90.5,-56 90.5,-12 90.5,-12 90.5,-6 96.5,0 102.5,0 102.5,0 206.5,0 206.5,0 212.5,0 218.5,-6 218.5,-12 218.5,-12 218.5,-56 218.5,-56 218.5,-62 212.5,-68 206.5,-68\"/>\n",
       "<text text-anchor=\"middle\" x=\"154.5\" y=\"-52.8\" font-family=\"Helvetica,sans-Serif\" font-size=\"14.00\" fill=\"#000000\">gini = 0.168</text>\n",
       "<text text-anchor=\"middle\" x=\"154.5\" y=\"-37.8\" font-family=\"Helvetica,sans-Serif\" font-size=\"14.00\" fill=\"#000000\">samples = 54</text>\n",
       "<text text-anchor=\"middle\" x=\"154.5\" y=\"-22.8\" font-family=\"Helvetica,sans-Serif\" font-size=\"14.00\" fill=\"#000000\">value = [0, 49, 5]</text>\n",
       "<text text-anchor=\"middle\" x=\"154.5\" y=\"-7.8\" font-family=\"Helvetica,sans-Serif\" font-size=\"14.00\" fill=\"#000000\">class = versicolor</text>\n",
       "</g>\n",
       "<!-- 2&#45;&gt;3 -->\n",
       "<g id=\"edge3\" class=\"edge\">\n",
       "<title>2&#45;&gt;3</title>\n",
       "<path fill=\"none\" stroke=\"#000000\" d=\"M199.6899,-103.9815C193.9331,-95.0666 187.8404,-85.6313 182.0559,-76.6734\"/>\n",
       "<polygon fill=\"#000000\" stroke=\"#000000\" points=\"184.9904,-74.7658 176.6254,-68.2637 179.1099,-78.5631 184.9904,-74.7658\"/>\n",
       "</g>\n",
       "<!-- 4 -->\n",
       "<g id=\"node5\" class=\"node\">\n",
       "<title>4</title>\n",
       "<path fill=\"#843de6\" stroke=\"#000000\" d=\"M348,-68C348,-68 249,-68 249,-68 243,-68 237,-62 237,-56 237,-56 237,-12 237,-12 237,-6 243,0 249,0 249,0 348,0 348,0 354,0 360,-6 360,-12 360,-12 360,-56 360,-56 360,-62 354,-68 348,-68\"/>\n",
       "<text text-anchor=\"middle\" x=\"298.5\" y=\"-52.8\" font-family=\"Helvetica,sans-Serif\" font-size=\"14.00\" fill=\"#000000\">gini = 0.043</text>\n",
       "<text text-anchor=\"middle\" x=\"298.5\" y=\"-37.8\" font-family=\"Helvetica,sans-Serif\" font-size=\"14.00\" fill=\"#000000\">samples = 46</text>\n",
       "<text text-anchor=\"middle\" x=\"298.5\" y=\"-22.8\" font-family=\"Helvetica,sans-Serif\" font-size=\"14.00\" fill=\"#000000\">value = [0, 1, 45]</text>\n",
       "<text text-anchor=\"middle\" x=\"298.5\" y=\"-7.8\" font-family=\"Helvetica,sans-Serif\" font-size=\"14.00\" fill=\"#000000\">class = virginica</text>\n",
       "</g>\n",
       "<!-- 2&#45;&gt;4 -->\n",
       "<g id=\"edge4\" class=\"edge\">\n",
       "<title>2&#45;&gt;4</title>\n",
       "<path fill=\"none\" stroke=\"#000000\" d=\"M253.3101,-103.9815C259.0669,-95.0666 265.1596,-85.6313 270.9441,-76.6734\"/>\n",
       "<polygon fill=\"#000000\" stroke=\"#000000\" points=\"273.8901,-78.5631 276.3746,-68.2637 268.0096,-74.7658 273.8901,-78.5631\"/>\n",
       "</g>\n",
       "</g>\n",
       "</svg>\n"
      ],
      "text/plain": [
       "<graphviz.files.Source at 0x7f891baf5eb8>"
      ]
     },
     "execution_count": 3,
     "metadata": {
      "tags": []
     },
     "output_type": "execute_result"
    }
   ],
   "source": [
    "from graphviz import Source\n",
    "from sklearn.tree import export_graphviz\n",
    "IMAGES_PATH = r'/home'\n",
    "export_graphviz(\n",
    "        tree_clf,\n",
    "        out_file=os.path.join(IMAGES_PATH, \"iris_tree.dot\"),\n",
    "        feature_names=iris.feature_names[2:],\n",
    "        class_names=iris.target_names,\n",
    "        rounded=True,\n",
    "        filled=True\n",
    "    )\n",
    "\n",
    "Source.from_file(os.path.join(IMAGES_PATH, \"iris_tree.dot\"))"
   ]
  },
  {
   "cell_type": "code",
   "execution_count": 4,
   "metadata": {
    "colab": {
     "base_uri": "https://localhost:8080/",
     "height": 291
    },
    "executionInfo": {
     "elapsed": 552,
     "status": "ok",
     "timestamp": 1613152680313,
     "user": {
      "displayName": "A B M Rafi (Rafi) Sazzad",
      "photoUrl": "",
      "userId": "16735321769566946040"
     },
     "user_tz": 360
    },
    "id": "oaIMJQd36jfk",
    "outputId": "086771c1-f6ef-4baa-b511-01b61a5935e7"
   },
   "outputs": [
    {
     "data": {
      "image/png": "[encoded data removed]",
      "text/plain": [
       "<Figure size 576x288 with 1 Axes>"
      ]
     },
     "metadata": {
      "needs_background": "light",
      "tags": []
     },
     "output_type": "display_data"
    }
   ],
   "source": [
    "from matplotlib.colors import ListedColormap\n",
    "\n",
    "def plot_decision_boundary(clf, X, y, axes=[0, 7.5, 0, 3], iris=True, legend=False, plot_training=True):\n",
    "    x1s = np.linspace(axes[0], axes[1], 100)\n",
    "    x2s = np.linspace(axes[2], axes[3], 100)\n",
    "    x1, x2 = np.meshgrid(x1s, x2s)\n",
    "    #print(x1.ravel()[:5])\n",
    "    X_new = np.c_[x1.ravel(), x2.ravel()]\n",
    "    #print(X_new[:3])\n",
    "    y_pred = clf.predict(X_new).reshape(x1.shape)\n",
    "    custom_cmap = ListedColormap(['#fafab0','#9898ff','#a0faa0'])\n",
    "    plt.contourf(x1, x2, y_pred, alpha=0.3, cmap=custom_cmap)\n",
    "    if not iris:\n",
    "        custom_cmap2 = ListedColormap(['#7d7d58','#4c4c7f','#507d50'])\n",
    "        plt.contour(x1, x2, y_pred, cmap=custom_cmap2, alpha=0.8)\n",
    "    if plot_training:\n",
    "        plt.plot(X[:, 0][y==0], X[:, 1][y==0], \"yo\", label=\"Iris setosa\")\n",
    "        plt.plot(X[:, 0][y==1], X[:, 1][y==1], \"bs\", label=\"Iris versicolor\")\n",
    "        plt.plot(X[:, 0][y==2], X[:, 1][y==2], \"g^\", label=\"Iris virginica\")\n",
    "        plt.axis(axes)\n",
    "    if iris:\n",
    "        plt.xlabel(\"Petal length\", fontsize=14)\n",
    "        plt.ylabel(\"Petal width\", fontsize=14)\n",
    "    else:\n",
    "        plt.xlabel(r\"$x_1$\", fontsize=18)\n",
    "        plt.ylabel(r\"$x_2$\", fontsize=18, rotation=0)\n",
    "    if legend:\n",
    "        plt.legend(loc=\"lower right\", fontsize=14)\n",
    "\n",
    "plt.figure(figsize=(8, 4))\n",
    "plot_decision_boundary(tree_clf, X, y)\n",
    "plt.plot([2.45, 2.45], [0, 3], \"k-\", linewidth=2)\n",
    "plt.plot([2.45, 7.5], [1.75, 1.75], \"k--\", linewidth=2)\n",
    "plt.plot([4.95, 4.95], [0, 1.75], \"k:\", linewidth=2)\n",
    "plt.plot([4.85, 4.85], [1.75, 3], \"k:\", linewidth=2)\n",
    "plt.text(1.40, 1.0, \"Depth=0\", fontsize=15)\n",
    "plt.text(3.2, 1.80, \"Depth=1\", fontsize=13)\n",
    "plt.text(4.05, 0.5, \"(Depth=2)\", fontsize=11)\n",
    "\n",
    "plt.show()"
   ]
  },
  {
   "cell_type": "markdown",
   "metadata": {
    "id": "Flwhmc-N6jfk"
   },
   "source": [
    "# Predicting classes and class probabilities"
   ]
  },
  {
   "cell_type": "markdown",
   "metadata": {
    "id": "w5GIDQ2s6jfk"
   },
   "source": [
    "### Task 2\n",
    "Next, predict the probabilities and the class for the following values: ``` [5, 1.5] ```"
   ]
  },
  {
   "cell_type": "code",
   "execution_count": 5,
   "metadata": {
    "colab": {
     "base_uri": "https://localhost:8080/"
    },
    "executionInfo": {
     "elapsed": 236,
     "status": "ok",
     "timestamp": 1613152684889,
     "user": {
      "displayName": "A B M Rafi (Rafi) Sazzad",
      "photoUrl": "",
      "userId": "16735321769566946040"
     },
     "user_tz": 360
    },
    "id": "_F4SceSa6jfl",
    "outputId": "86b11d5c-1a73-488b-d116-402e3e6b2acf"
   },
   "outputs": [
    {
     "name": "stdout",
     "output_type": "stream",
     "text": [
      "probability for setosa, versicolor and virginica are as follows : \n",
      " [[0.         0.90740741 0.09259259]]\n"
     ]
    }
   ],
   "source": [
    "class_prob = tree_clf.predict_proba([[5,1.5]])\n",
    "print(\"probability for setosa, versicolor and virginica are as follows : \\n\", class_prob)"
   ]
  },
  {
   "cell_type": "code",
   "execution_count": 6,
   "metadata": {
    "colab": {
     "base_uri": "https://localhost:8080/"
    },
    "executionInfo": {
     "elapsed": 261,
     "status": "ok",
     "timestamp": 1613152687913,
     "user": {
      "displayName": "A B M Rafi (Rafi) Sazzad",
      "photoUrl": "",
      "userId": "16735321769566946040"
     },
     "user_tz": 360
    },
    "id": "MyvH3aDP6jfl",
    "outputId": "96d42eec-0503-4d8f-c946-db89285ff5ab"
   },
   "outputs": [
    {
     "data": {
      "text/plain": [
       "array([1])"
      ]
     },
     "execution_count": 6,
     "metadata": {
      "tags": []
     },
     "output_type": "execute_result"
    }
   ],
   "source": [
    "y_pred = tree_clf.predict([[5,1.5]])\n",
    "y_pred\n"
   ]
  },
  {
   "cell_type": "markdown",
   "metadata": {
    "id": "0HiG3Mep6jfl"
   },
   "source": [
    "# Sensitivity to training set details"
   ]
  },
  {
   "cell_type": "markdown",
   "metadata": {
    "id": "Nl6W1WhB6jfl"
   },
   "source": [
    "### Task 3\n",
    "Next, we want to expolore the sensitivity to the training set details. \n",
    "What does the output below show? \n",
    "\n",
    "Hint, refer to the dataset description: \n",
    "https://scikit-learn.org/stable/auto_examples/datasets/plot_iris_dataset.html\n",
    "and think about the slicing of the array below. Which values are selected and which data do they show? "
   ]
  },
  {
   "cell_type": "code",
   "execution_count": null,
   "metadata": {
    "colab": {
     "base_uri": "https://localhost:8080/"
    },
    "id": "EA3-cTjU0oqo",
    "outputId": "331cb3f3-6a1a-466d-e50d-53e88c562ea2"
   },
   "outputs": [
    {
     "data": {
      "text/plain": [
       "1.8"
      ]
     },
     "execution_count": 55,
     "metadata": {
      "tags": []
     },
     "output_type": "execute_result"
    }
   ],
   "source": [
    "X[:, 1][y==1].max() # maximum petal width for versicolor class\n"
   ]
  },
  {
   "cell_type": "code",
   "execution_count": null,
   "metadata": {
    "colab": {
     "base_uri": "https://localhost:8080/"
    },
    "id": "9-a3Rz4Gw3zW",
    "outputId": "f6b6c238-860c-4455-a3ac-5c727f0be362"
   },
   "outputs": [
    {
     "data": {
      "text/plain": [
       "array([False, False, False, False, False, False, False, False, False,\n",
       "       False, False, False, False, False, False, False, False, False,\n",
       "       False, False, False, False, False, False, False, False, False,\n",
       "       False, False, False, False, False, False, False, False, False,\n",
       "       False, False, False, False, False, False, False, False, False,\n",
       "       False, False, False, False, False, False, False, False, False,\n",
       "       False, False, False, False, False, False, False, False, False,\n",
       "       False, False, False, False, False, False, False,  True, False,\n",
       "       False, False, False, False, False, False, False, False, False,\n",
       "       False, False, False, False, False, False, False, False, False,\n",
       "       False, False, False, False, False, False, False, False, False,\n",
       "       False, False, False, False,  True, False, False, False,  True,\n",
       "        True, False, False, False, False, False, False, False,  True,\n",
       "       False, False, False, False, False, False,  True, False,  True,\n",
       "        True,  True, False, False, False, False, False, False, False,\n",
       "       False, False,  True,  True, False, False, False, False, False,\n",
       "       False, False, False, False, False,  True])"
      ]
     },
     "execution_count": 51,
     "metadata": {
      "tags": []
     },
     "output_type": "execute_result"
    }
   ],
   "source": [
    "X[:, 1]==X[:, 1][y==1].max() # checks whether the 150 instances has petal width equal to 1.8  or not: True means that entry has 1.8 petal width...\n"
   ]
  },
  {
   "cell_type": "code",
   "execution_count": null,
   "metadata": {
    "colab": {
     "base_uri": "https://localhost:8080/"
    },
    "id": "bKiXgGpYx071",
    "outputId": "884b44d4-98ef-4a21-90bf-03ff2e568254"
   },
   "outputs": [
    {
     "data": {
      "text/plain": [
       "array([False, False, False, False, False, False, False, False, False,\n",
       "       False, False, False, False, False, False, False, False, False,\n",
       "       False, False, False, False, False, False, False, False, False,\n",
       "       False, False, False, False, False, False, False, False, False,\n",
       "       False, False, False, False, False, False, False, False, False,\n",
       "       False, False, False, False, False, False, False, False, False,\n",
       "       False, False, False, False, False, False, False, False, False,\n",
       "       False, False, False, False, False, False, False,  True, False,\n",
       "       False, False, False, False, False, False, False, False, False,\n",
       "       False, False, False, False, False, False, False, False, False,\n",
       "       False, False, False, False, False, False, False, False, False,\n",
       "       False, False, False, False, False, False, False, False, False,\n",
       "       False, False, False, False, False, False, False, False, False,\n",
       "       False, False, False, False, False, False, False, False, False,\n",
       "       False, False, False, False, False, False, False, False, False,\n",
       "       False, False, False, False, False, False, False, False, False,\n",
       "       False, False, False, False, False, False])"
      ]
     },
     "execution_count": 56,
     "metadata": {
      "tags": []
     },
     "output_type": "execute_result"
    }
   ],
   "source": [
    "(X[:, 1]==X[:, 1][y==1].max()) & (y==1) # checks how many instances has the petal width 1.8 and versicolor (only one true amidst sea of false)\n"
   ]
  },
  {
   "cell_type": "code",
   "execution_count": 8,
   "metadata": {
    "colab": {
     "base_uri": "https://localhost:8080/"
    },
    "executionInfo": {
     "elapsed": 281,
     "status": "ok",
     "timestamp": 1613152748547,
     "user": {
      "displayName": "A B M Rafi (Rafi) Sazzad",
      "photoUrl": "",
      "userId": "16735321769566946040"
     },
     "user_tz": 360
    },
    "id": "KUUTfn7a6jfl",
    "outputId": "5036cc97-7cd8-4c79-8d0e-d9f87f200ca4"
   },
   "outputs": [
    {
     "data": {
      "text/plain": [
       "array([[4.8, 1.8]])"
      ]
     },
     "execution_count": 8,
     "metadata": {
      "tags": []
     },
     "output_type": "execute_result"
    }
   ],
   "source": [
    "X[(X[:, 1]==X[:, 1][y==1].max()) & (y==1)] #that one instances is presented here! petal length 4.8 and width 1.8"
   ]
  },
  {
   "cell_type": "markdown",
   "metadata": {
    "id": "-zH9XV1e6jfm"
   },
   "source": [
    "Now, what if we select the values that are NOT 1.8. Which data would the dataset represent? "
   ]
  },
  {
   "cell_type": "code",
   "execution_count": null,
   "metadata": {
    "colab": {
     "base_uri": "https://localhost:8080/"
    },
    "id": "oQSqUdxn-2MV",
    "outputId": "c267967c-2cc8-4d49-b714-f4ba19a43336"
   },
   "outputs": [
    {
     "data": {
      "text/plain": [
       "array([ True,  True,  True,  True,  True,  True,  True,  True,  True,\n",
       "        True,  True,  True,  True,  True,  True,  True,  True,  True,\n",
       "        True,  True,  True,  True,  True,  True,  True,  True,  True,\n",
       "        True,  True,  True,  True,  True,  True,  True,  True,  True,\n",
       "        True,  True,  True,  True,  True,  True,  True,  True,  True,\n",
       "        True,  True,  True,  True,  True,  True,  True,  True,  True,\n",
       "        True,  True,  True,  True,  True,  True,  True,  True,  True,\n",
       "        True,  True,  True,  True,  True,  True,  True, False,  True,\n",
       "        True,  True,  True,  True,  True,  True,  True,  True,  True,\n",
       "        True,  True,  True,  True,  True,  True,  True,  True,  True,\n",
       "        True,  True,  True,  True,  True,  True,  True,  True,  True,\n",
       "        True,  True,  True,  True,  True,  True,  True,  True,  True,\n",
       "        True,  True,  True,  True,  True,  True,  True,  True,  True,\n",
       "        True,  True,  True,  True,  True,  True,  True,  True,  True,\n",
       "        True,  True,  True,  True,  True,  True,  True,  True,  True,\n",
       "        True,  True,  True,  True,  True,  True,  True,  True,  True,\n",
       "        True,  True,  True,  True,  True,  True])"
      ]
     },
     "execution_count": 61,
     "metadata": {
      "tags": []
     },
     "output_type": "execute_result"
    }
   ],
   "source": [
    "(X[:, 1]!=1.8) | (y==2) #selecting the entries(setting it to true), which are either virginica or the petal length is not equals to 1.8\n",
    "#so except the versicolor instance which had 1.8 petal width all other entries are selected! So other instances who has 1.8 petal width they must be virginica to be set to true."
   ]
  },
  {
   "cell_type": "code",
   "execution_count": 11,
   "metadata": {
    "executionInfo": {
     "elapsed": 234,
     "status": "ok",
     "timestamp": 1613152773297,
     "user": {
      "displayName": "A B M Rafi (Rafi) Sazzad",
      "photoUrl": "",
      "userId": "16735321769566946040"
     },
     "user_tz": 360
    },
    "id": "_ONaWq6L6jfm"
   },
   "outputs": [],
   "source": [
    "not_1_8 = (X[:, 1]!=1.8) | (y==2)\n",
    "X_tweaked = X[not_1_8]\n",
    "y_tweaked = y[not_1_8]\n",
    "#X_tweaked.shape"
   ]
  },
  {
   "cell_type": "markdown",
   "metadata": {
    "id": "UOhzd7Me6jfn"
   },
   "source": [
    "Fit a new Decision Tree Classifier to these values with the same initial parameter values for ```max_depth``` and ```random_state```."
   ]
  },
  {
   "cell_type": "code",
   "execution_count": 12,
   "metadata": {
    "colab": {
     "base_uri": "https://localhost:8080/"
    },
    "executionInfo": {
     "elapsed": 243,
     "status": "ok",
     "timestamp": 1613152780311,
     "user": {
      "displayName": "A B M Rafi (Rafi) Sazzad",
      "photoUrl": "",
      "userId": "16735321769566946040"
     },
     "user_tz": 360
    },
    "id": "PPvU70VC6jfn",
    "outputId": "259e452a-2485-44ab-f4fd-fde42ea32bbc"
   },
   "outputs": [
    {
     "data": {
      "text/plain": [
       "DecisionTreeClassifier(ccp_alpha=0.0, class_weight=None, criterion='gini',\n",
       "                       max_depth=2, max_features=None, max_leaf_nodes=None,\n",
       "                       min_impurity_decrease=0.0, min_impurity_split=None,\n",
       "                       min_samples_leaf=1, min_samples_split=2,\n",
       "                       min_weight_fraction_leaf=0.0, presort='deprecated',\n",
       "                       random_state=42, splitter='best')"
      ]
     },
     "execution_count": 12,
     "metadata": {
      "tags": []
     },
     "output_type": "execute_result"
    }
   ],
   "source": [
    "tree_clf_tweaked = DecisionTreeClassifier(max_depth=2, random_state=42)\n",
    "tree_clf_tweaked.fit(X_tweaked,y_tweaked)"
   ]
  },
  {
   "cell_type": "markdown",
   "metadata": {
    "id": "qJBQ0jF86jfn"
   },
   "source": [
    "Let's visualize the results. What are they telling you? "
   ]
  },
  {
   "cell_type": "markdown",
   "metadata": {
    "id": "NRp00ebGDUiH"
   },
   "source": [
    "\n",
    "> After the removal of the widest versicolor instance from the training set, all the decisions are made in terms of the the petal width feature. At depth 0 node the instances with petal width less than 0.9 are setosa and petal width greter than 0.9 could be either versicolor or virginica. In depth 1 node then the decision node ask if the petal width is less than 1.8? If it is then it belongs to the virginica and if not then it belongs to the versicolor. However, the gini impurity is not perfect since it is evident from the picture the some versicolor invaded into the virgicica territory.\n",
    "\n",
    "\n",
    "\n"
   ]
  },
  {
   "cell_type": "code",
   "execution_count": 13,
   "metadata": {
    "colab": {
     "base_uri": "https://localhost:8080/",
     "height": 291
    },
    "executionInfo": {
     "elapsed": 531,
     "status": "ok",
     "timestamp": 1613152785680,
     "user": {
      "displayName": "A B M Rafi (Rafi) Sazzad",
      "photoUrl": "",
      "userId": "16735321769566946040"
     },
     "user_tz": 360
    },
    "id": "YvCneZFw6jfn",
    "outputId": "9ca09315-3872-4c94-e880-d8f130ace46d"
   },
   "outputs": [
    {
     "data": {
      "image/png": "[encoded data removed]",
      "text/plain": [
       "<Figure size 576x288 with 1 Axes>"
      ]
     },
     "metadata": {
      "needs_background": "light",
      "tags": []
     },
     "output_type": "display_data"
    }
   ],
   "source": [
    "plt.figure(figsize=(8, 4))\n",
    "plot_decision_boundary(tree_clf_tweaked, X_tweaked, y_tweaked, legend=False)\n",
    "plt.plot([0, 7.5], [0.8, 0.8], \"k-\", linewidth=2)\n",
    "plt.plot([0, 7.5], [1.75, 1.75], \"k--\", linewidth=2)\n",
    "plt.text(1.0, 0.9, \"Depth=0\", fontsize=15)\n",
    "plt.text(1.0, 1.80, \"Depth=1\", fontsize=13)\n",
    "\n",
    "plt.show()"
   ]
  },
  {
   "cell_type": "markdown",
   "metadata": {
    "id": "UGIJW5KK6jfn"
   },
   "source": [
    "# Regression trees"
   ]
  },
  {
   "cell_type": "markdown",
   "metadata": {
    "id": "baNCfCeU6jfo"
   },
   "source": [
    "In this subsection, we will be working with a regression task. \n",
    "Notice that the dataset below is different. Here we are using a training set generated by a quadratic function with the addition of some random noise. "
   ]
  },
  {
   "cell_type": "code",
   "execution_count": 14,
   "metadata": {
    "executionInfo": {
     "elapsed": 243,
     "status": "ok",
     "timestamp": 1613152792823,
     "user": {
      "displayName": "A B M Rafi (Rafi) Sazzad",
      "photoUrl": "",
      "userId": "16735321769566946040"
     },
     "user_tz": 360
    },
    "id": "QHMeRXMx6jfo"
   },
   "outputs": [],
   "source": [
    "np.random.seed(42)\n",
    "m = 200\n",
    "X = np.random.rand(m, 1)\n",
    "y = 4 * (X - 0.5) ** 2\n",
    "y = y + np.random.randn(m, 1) / 10"
   ]
  },
  {
   "cell_type": "markdown",
   "metadata": {
    "id": "FUld2oyc6jfo"
   },
   "source": [
    "### Task 4\n",
    "Similar to what you've done above, create a decision tree regressor with the same hyperparameters as the classifier. "
   ]
  },
  {
   "cell_type": "code",
   "execution_count": 15,
   "metadata": {
    "colab": {
     "base_uri": "https://localhost:8080/"
    },
    "executionInfo": {
     "elapsed": 237,
     "status": "ok",
     "timestamp": 1613152797320,
     "user": {
      "displayName": "A B M Rafi (Rafi) Sazzad",
      "photoUrl": "",
      "userId": "16735321769566946040"
     },
     "user_tz": 360
    },
    "id": "44nEVasJ6jfp",
    "outputId": "0b7e64f1-0397-450b-a053-17c97b4c1df6"
   },
   "outputs": [
    {
     "data": {
      "text/plain": [
       "DecisionTreeRegressor(ccp_alpha=0.0, criterion='mse', max_depth=2,\n",
       "                      max_features=None, max_leaf_nodes=None,\n",
       "                      min_impurity_decrease=0.0, min_impurity_split=None,\n",
       "                      min_samples_leaf=1, min_samples_split=2,\n",
       "                      min_weight_fraction_leaf=0.0, presort='deprecated',\n",
       "                      random_state=42, splitter='best')"
      ]
     },
     "execution_count": 15,
     "metadata": {
      "tags": []
     },
     "output_type": "execute_result"
    }
   ],
   "source": [
    "from sklearn.tree import DecisionTreeRegressor\n",
    "\n",
    "tree_reg = DecisionTreeRegressor(max_depth=2,random_state=42) \n",
    "tree_reg.fit(X,y)"
   ]
  },
  {
   "cell_type": "code",
   "execution_count": 16,
   "metadata": {
    "colab": {
     "base_uri": "https://localhost:8080/",
     "height": 380
    },
    "executionInfo": {
     "elapsed": 299,
     "status": "ok",
     "timestamp": 1613152800703,
     "user": {
      "displayName": "A B M Rafi (Rafi) Sazzad",
      "photoUrl": "",
      "userId": "16735321769566946040"
     },
     "user_tz": 360
    },
    "id": "ZtXk740TMQkz",
    "outputId": "317adf27-68af-41dd-f0df-15221f401a56"
   },
   "outputs": [
    {
     "data": {
      "image/svg+xml": [
       "<?xml version=\"1.0\" encoding=\"UTF-8\" standalone=\"no\"?>\n",
       "<!DOCTYPE svg PUBLIC \"-//W3C//DTD SVG 1.1//EN\"\n",
       " \"http://www.w3.org/Graphics/SVG/1.1/DTD/svg11.dtd\">\n",
       "<!-- Generated by graphviz version 2.40.1 (20161225.0304)\n",
       " -->\n",
       "<!-- Title: Tree Pages: 1 -->\n",
       "<svg width=\"486pt\" height=\"269pt\"\n",
       " viewBox=\"0.00 0.00 486.00 269.00\" xmlns=\"http://www.w3.org/2000/svg\" xmlns:xlink=\"http://www.w3.org/1999/xlink\">\n",
       "<g id=\"graph0\" class=\"graph\" transform=\"scale(1 1) rotate(0) translate(4 265)\">\n",
       "<title>Tree</title>\n",
       "<polygon fill=\"#ffffff\" stroke=\"transparent\" points=\"-4,4 -4,-265 482,-265 482,4 -4,4\"/>\n",
       "<!-- 0 -->\n",
       "<g id=\"node1\" class=\"node\">\n",
       "<title>0</title>\n",
       "<path fill=\"#f6d6be\" stroke=\"#000000\" d=\"M281,-261C281,-261 193,-261 193,-261 187,-261 181,-255 181,-249 181,-249 181,-205 181,-205 181,-199 187,-193 193,-193 193,-193 281,-193 281,-193 287,-193 293,-199 293,-205 293,-205 293,-249 293,-249 293,-255 287,-261 281,-261\"/>\n",
       "<text text-anchor=\"middle\" x=\"237\" y=\"-245.8\" font-family=\"Helvetica,sans-Serif\" font-size=\"14.00\" fill=\"#000000\">X[0] &lt;= 0.197</text>\n",
       "<text text-anchor=\"middle\" x=\"237\" y=\"-230.8\" font-family=\"Helvetica,sans-Serif\" font-size=\"14.00\" fill=\"#000000\">mse = 0.098</text>\n",
       "<text text-anchor=\"middle\" x=\"237\" y=\"-215.8\" font-family=\"Helvetica,sans-Serif\" font-size=\"14.00\" fill=\"#000000\">samples = 200</text>\n",
       "<text text-anchor=\"middle\" x=\"237\" y=\"-200.8\" font-family=\"Helvetica,sans-Serif\" font-size=\"14.00\" fill=\"#000000\">value = 0.354</text>\n",
       "</g>\n",
       "<!-- 1 -->\n",
       "<g id=\"node2\" class=\"node\">\n",
       "<title>1</title>\n",
       "<path fill=\"#eb9d65\" stroke=\"#000000\" d=\"M214,-157C214,-157 134,-157 134,-157 128,-157 122,-151 122,-145 122,-145 122,-101 122,-101 122,-95 128,-89 134,-89 134,-89 214,-89 214,-89 220,-89 226,-95 226,-101 226,-101 226,-145 226,-145 226,-151 220,-157 214,-157\"/>\n",
       "<text text-anchor=\"middle\" x=\"174\" y=\"-141.8\" font-family=\"Helvetica,sans-Serif\" font-size=\"14.00\" fill=\"#000000\">X[0] &lt;= 0.092</text>\n",
       "<text text-anchor=\"middle\" x=\"174\" y=\"-126.8\" font-family=\"Helvetica,sans-Serif\" font-size=\"14.00\" fill=\"#000000\">mse = 0.038</text>\n",
       "<text text-anchor=\"middle\" x=\"174\" y=\"-111.8\" font-family=\"Helvetica,sans-Serif\" font-size=\"14.00\" fill=\"#000000\">samples = 44</text>\n",
       "<text text-anchor=\"middle\" x=\"174\" y=\"-96.8\" font-family=\"Helvetica,sans-Serif\" font-size=\"14.00\" fill=\"#000000\">value = 0.689</text>\n",
       "</g>\n",
       "<!-- 0&#45;&gt;1 -->\n",
       "<g id=\"edge1\" class=\"edge\">\n",
       "<title>0&#45;&gt;1</title>\n",
       "<path fill=\"none\" stroke=\"#000000\" d=\"M216.3714,-192.9465C211.1501,-184.3271 205.4745,-174.9579 200.0245,-165.9611\"/>\n",
       "<polygon fill=\"#000000\" stroke=\"#000000\" points=\"202.8497,-163.8697 194.6749,-157.13 196.8626,-167.4965 202.8497,-163.8697\"/>\n",
       "<text text-anchor=\"middle\" x=\"188.7142\" y=\"-177.709\" font-family=\"Helvetica,sans-Serif\" font-size=\"14.00\" fill=\"#000000\">True</text>\n",
       "</g>\n",
       "<!-- 4 -->\n",
       "<g id=\"node5\" class=\"node\">\n",
       "<title>4</title>\n",
       "<path fill=\"#fae6d7\" stroke=\"#000000\" d=\"M344,-157C344,-157 256,-157 256,-157 250,-157 244,-151 244,-145 244,-145 244,-101 244,-101 244,-95 250,-89 256,-89 256,-89 344,-89 344,-89 350,-89 356,-95 356,-101 356,-101 356,-145 356,-145 356,-151 350,-157 344,-157\"/>\n",
       "<text text-anchor=\"middle\" x=\"300\" y=\"-141.8\" font-family=\"Helvetica,sans-Serif\" font-size=\"14.00\" fill=\"#000000\">X[0] &lt;= 0.772</text>\n",
       "<text text-anchor=\"middle\" x=\"300\" y=\"-126.8\" font-family=\"Helvetica,sans-Serif\" font-size=\"14.00\" fill=\"#000000\">mse = 0.074</text>\n",
       "<text text-anchor=\"middle\" x=\"300\" y=\"-111.8\" font-family=\"Helvetica,sans-Serif\" font-size=\"14.00\" fill=\"#000000\">samples = 156</text>\n",
       "<text text-anchor=\"middle\" x=\"300\" y=\"-96.8\" font-family=\"Helvetica,sans-Serif\" font-size=\"14.00\" fill=\"#000000\">value = 0.259</text>\n",
       "</g>\n",
       "<!-- 0&#45;&gt;4 -->\n",
       "<g id=\"edge4\" class=\"edge\">\n",
       "<title>0&#45;&gt;4</title>\n",
       "<path fill=\"none\" stroke=\"#000000\" d=\"M257.6286,-192.9465C262.8499,-184.3271 268.5255,-174.9579 273.9755,-165.9611\"/>\n",
       "<polygon fill=\"#000000\" stroke=\"#000000\" points=\"277.1374,-167.4965 279.3251,-157.13 271.1503,-163.8697 277.1374,-167.4965\"/>\n",
       "<text text-anchor=\"middle\" x=\"285.2858\" y=\"-177.709\" font-family=\"Helvetica,sans-Serif\" font-size=\"14.00\" fill=\"#000000\">False</text>\n",
       "</g>\n",
       "<!-- 2 -->\n",
       "<g id=\"node3\" class=\"node\">\n",
       "<title>2</title>\n",
       "<path fill=\"#e58139\" stroke=\"#000000\" d=\"M92,-53C92,-53 12,-53 12,-53 6,-53 0,-47 0,-41 0,-41 0,-12 0,-12 0,-6 6,0 12,0 12,0 92,0 92,0 98,0 104,-6 104,-12 104,-12 104,-41 104,-41 104,-47 98,-53 92,-53\"/>\n",
       "<text text-anchor=\"middle\" x=\"52\" y=\"-37.8\" font-family=\"Helvetica,sans-Serif\" font-size=\"14.00\" fill=\"#000000\">mse = 0.018</text>\n",
       "<text text-anchor=\"middle\" x=\"52\" y=\"-22.8\" font-family=\"Helvetica,sans-Serif\" font-size=\"14.00\" fill=\"#000000\">samples = 20</text>\n",
       "<text text-anchor=\"middle\" x=\"52\" y=\"-7.8\" font-family=\"Helvetica,sans-Serif\" font-size=\"14.00\" fill=\"#000000\">value = 0.854</text>\n",
       "</g>\n",
       "<!-- 1&#45;&gt;2 -->\n",
       "<g id=\"edge2\" class=\"edge\">\n",
       "<title>1&#45;&gt;2</title>\n",
       "<path fill=\"none\" stroke=\"#000000\" d=\"M130.9874,-88.9777C118.9476,-79.4545 105.8812,-69.1191 93.9065,-59.6473\"/>\n",
       "<polygon fill=\"#000000\" stroke=\"#000000\" points=\"95.8311,-56.7072 85.8167,-53.2485 91.4885,-62.1973 95.8311,-56.7072\"/>\n",
       "</g>\n",
       "<!-- 3 -->\n",
       "<g id=\"node4\" class=\"node\">\n",
       "<title>3</title>\n",
       "<path fill=\"#f0b489\" stroke=\"#000000\" d=\"M214,-53C214,-53 134,-53 134,-53 128,-53 122,-47 122,-41 122,-41 122,-12 122,-12 122,-6 128,0 134,0 134,0 214,0 214,0 220,0 226,-6 226,-12 226,-12 226,-41 226,-41 226,-47 220,-53 214,-53\"/>\n",
       "<text text-anchor=\"middle\" x=\"174\" y=\"-37.8\" font-family=\"Helvetica,sans-Serif\" font-size=\"14.00\" fill=\"#000000\">mse = 0.013</text>\n",
       "<text text-anchor=\"middle\" x=\"174\" y=\"-22.8\" font-family=\"Helvetica,sans-Serif\" font-size=\"14.00\" fill=\"#000000\">samples = 24</text>\n",
       "<text text-anchor=\"middle\" x=\"174\" y=\"-7.8\" font-family=\"Helvetica,sans-Serif\" font-size=\"14.00\" fill=\"#000000\">value = 0.552</text>\n",
       "</g>\n",
       "<!-- 1&#45;&gt;3 -->\n",
       "<g id=\"edge3\" class=\"edge\">\n",
       "<title>1&#45;&gt;3</title>\n",
       "<path fill=\"none\" stroke=\"#000000\" d=\"M174,-88.9777C174,-80.7364 174,-71.887 174,-63.5153\"/>\n",
       "<polygon fill=\"#000000\" stroke=\"#000000\" points=\"177.5001,-63.2484 174,-53.2485 170.5001,-63.2485 177.5001,-63.2484\"/>\n",
       "</g>\n",
       "<!-- 5 -->\n",
       "<g id=\"node6\" class=\"node\">\n",
       "<title>5</title>\n",
       "<path fill=\"#ffffff\" stroke=\"#000000\" d=\"M344,-53C344,-53 256,-53 256,-53 250,-53 244,-47 244,-41 244,-41 244,-12 244,-12 244,-6 250,0 256,0 256,0 344,0 344,0 350,0 356,-6 356,-12 356,-12 356,-41 356,-41 356,-47 350,-53 344,-53\"/>\n",
       "<text text-anchor=\"middle\" x=\"300\" y=\"-37.8\" font-family=\"Helvetica,sans-Serif\" font-size=\"14.00\" fill=\"#000000\">mse = 0.015</text>\n",
       "<text text-anchor=\"middle\" x=\"300\" y=\"-22.8\" font-family=\"Helvetica,sans-Serif\" font-size=\"14.00\" fill=\"#000000\">samples = 110</text>\n",
       "<text text-anchor=\"middle\" x=\"300\" y=\"-7.8\" font-family=\"Helvetica,sans-Serif\" font-size=\"14.00\" fill=\"#000000\">value = 0.111</text>\n",
       "</g>\n",
       "<!-- 4&#45;&gt;5 -->\n",
       "<g id=\"edge5\" class=\"edge\">\n",
       "<title>4&#45;&gt;5</title>\n",
       "<path fill=\"none\" stroke=\"#000000\" d=\"M300,-88.9777C300,-80.7364 300,-71.887 300,-63.5153\"/>\n",
       "<polygon fill=\"#000000\" stroke=\"#000000\" points=\"303.5001,-63.2484 300,-53.2485 296.5001,-63.2485 303.5001,-63.2484\"/>\n",
       "</g>\n",
       "<!-- 6 -->\n",
       "<g id=\"node7\" class=\"node\">\n",
       "<title>6</title>\n",
       "<path fill=\"#edaa79\" stroke=\"#000000\" d=\"M466,-53C466,-53 386,-53 386,-53 380,-53 374,-47 374,-41 374,-41 374,-12 374,-12 374,-6 380,0 386,0 386,0 466,0 466,0 472,0 478,-6 478,-12 478,-12 478,-41 478,-41 478,-47 472,-53 466,-53\"/>\n",
       "<text text-anchor=\"middle\" x=\"426\" y=\"-37.8\" font-family=\"Helvetica,sans-Serif\" font-size=\"14.00\" fill=\"#000000\">mse = 0.036</text>\n",
       "<text text-anchor=\"middle\" x=\"426\" y=\"-22.8\" font-family=\"Helvetica,sans-Serif\" font-size=\"14.00\" fill=\"#000000\">samples = 46</text>\n",
       "<text text-anchor=\"middle\" x=\"426\" y=\"-7.8\" font-family=\"Helvetica,sans-Serif\" font-size=\"14.00\" fill=\"#000000\">value = 0.615</text>\n",
       "</g>\n",
       "<!-- 4&#45;&gt;6 -->\n",
       "<g id=\"edge6\" class=\"edge\">\n",
       "<title>4&#45;&gt;6</title>\n",
       "<path fill=\"none\" stroke=\"#000000\" d=\"M344.4229,-88.9777C356.977,-79.3629 370.6119,-68.9203 383.076,-59.3743\"/>\n",
       "<polygon fill=\"#000000\" stroke=\"#000000\" points=\"385.2635,-62.1076 391.0745,-53.2485 381.0073,-56.5502 385.2635,-62.1076\"/>\n",
       "</g>\n",
       "</g>\n",
       "</svg>\n"
      ],
      "text/plain": [
       "<graphviz.files.Source at 0x7f891b890160>"
      ]
     },
     "execution_count": 16,
     "metadata": {
      "tags": []
     },
     "output_type": "execute_result"
    }
   ],
   "source": [
    "export_graphviz(\n",
    "        tree_reg,\n",
    "        out_file=os.path.join(IMAGES_PATH, \"reg_tree.dot\"),\n",
    "        rounded=True,\n",
    "        filled=True\n",
    "    )\n",
    "\n",
    "Source.from_file(os.path.join(IMAGES_PATH, \"reg_tree.dot\"))"
   ]
  },
  {
   "cell_type": "markdown",
   "metadata": {
    "id": "gRA6c8Xl6jfp"
   },
   "source": [
    "Below, you'll see the difference in the prediction for an increased value of the ```max_depth``` parameter. What can you say about the results?"
   ]
  },
  {
   "cell_type": "markdown",
   "metadata": {
    "id": "19GBhBxa5woh"
   },
   "source": [
    "\n",
    "\n",
    "> Possible number of prediction values increases (i.e; leaf node increases) with the max_depth hyperparameter increment. For this binary decision tree regressor the number of prediction value is equal to `2**max_depth`. Noticing the resulting leaf nodes (see the decision tree figures for regression 1 and 2), some of them has better mean square error (MSE) which means predicted value (average of the samples in that node) is much closer to the actual values of the instances--which may be very tempting but could easily lead to overfitting of the data and won't generalize better in the production. So, it would be better decision to stop splitting if there is no statistically significant improvement in MSE for the child nodes. \n",
    "\n",
    "\n",
    "\n"
   ]
  },
  {
   "cell_type": "code",
   "execution_count": 17,
   "metadata": {
    "colab": {
     "base_uri": "https://localhost:8080/",
     "height": 307
    },
    "executionInfo": {
     "elapsed": 964,
     "status": "ok",
     "timestamp": 1613152805713,
     "user": {
      "displayName": "A B M Rafi (Rafi) Sazzad",
      "photoUrl": "",
      "userId": "16735321769566946040"
     },
     "user_tz": 360
    },
    "id": "6FeJ0LiB6jfp",
    "outputId": "242287e9-33c1-4b2a-a453-73800a4377a3"
   },
   "outputs": [
    {
     "data": {
      "image/png": "[encoded data removed]",
      "text/plain": [
       "<Figure size 720x288 with 2 Axes>"
      ]
     },
     "metadata": {
      "needs_background": "light",
      "tags": []
     },
     "output_type": "display_data"
    }
   ],
   "source": [
    "from sklearn.tree import DecisionTreeRegressor\n",
    "\n",
    "tree_reg1 = DecisionTreeRegressor(random_state=42, max_depth=2)\n",
    "tree_reg2 = DecisionTreeRegressor(random_state=42, max_depth=3)\n",
    "tree_reg1.fit(X, y)\n",
    "tree_reg2.fit(X, y)\n",
    "\n",
    "def plot_regression_predictions(tree_reg, X, y, axes=[0, 1, -0.2, 1], ylabel=\"$y$\"):\n",
    "    x1 = np.linspace(axes[0], axes[1], 500).reshape(-1, 1)\n",
    "    y_pred = tree_reg.predict(x1)\n",
    "    plt.axis(axes)\n",
    "    plt.xlabel(\"$x_1$\", fontsize=18)\n",
    "    if ylabel:\n",
    "        plt.ylabel(ylabel, fontsize=18, rotation=0)\n",
    "    plt.plot(X, y, \"b.\")\n",
    "    plt.plot(x1, y_pred, \"r.-\", linewidth=2, label=r\"$\\hat{y}$\")\n",
    "\n",
    "fig, axes = plt.subplots(ncols=2, figsize=(10, 4), sharey=True)\n",
    "plt.sca(axes[0])\n",
    "plot_regression_predictions(tree_reg1, X, y)\n",
    "for split, style in ((0.1973, \"k-\"), (0.0917, \"k--\"), (0.7718, \"k--\")):\n",
    "    plt.plot([split, split], [-0.2, 1], style, linewidth=2)\n",
    "plt.text(0.21, 0.65, \"Depth=0\", fontsize=15)\n",
    "plt.text(0.01, 0.2, \"Depth=1\", fontsize=13)\n",
    "plt.text(0.65, 0.8, \"Depth=1\", fontsize=13)\n",
    "plt.legend(loc=\"upper center\", fontsize=18)\n",
    "plt.title(\"max_depth=2\", fontsize=14)\n",
    "\n",
    "plt.sca(axes[1])\n",
    "plot_regression_predictions(tree_reg2, X, y, ylabel=None)\n",
    "for split, style in ((0.1973, \"k-\"), (0.0917, \"k--\"), (0.7718, \"k--\")):\n",
    "    plt.plot([split, split], [-0.2, 1], style, linewidth=2)\n",
    "for split in (0.0458, 0.1298, 0.2873, 0.9040):\n",
    "    plt.plot([split, split], [-0.2, 1], \"k:\", linewidth=1)\n",
    "plt.text(0.3, 0.5, \"Depth=2\", fontsize=13)\n",
    "plt.title(\"max_depth=3\", fontsize=14)\n",
    "\n",
    "plt.show()"
   ]
  },
  {
   "cell_type": "code",
   "execution_count": 18,
   "metadata": {
    "executionInfo": {
     "elapsed": 241,
     "status": "ok",
     "timestamp": 1613152809153,
     "user": {
      "displayName": "A B M Rafi (Rafi) Sazzad",
      "photoUrl": "",
      "userId": "16735321769566946040"
     },
     "user_tz": 360
    },
    "id": "Cp0CGzgW6jfp"
   },
   "outputs": [],
   "source": [
    "export_graphviz(\n",
    "        tree_reg1,\n",
    "        out_file=os.path.join(IMAGES_PATH, \"regression1_tree.dot\"),\n",
    "        feature_names=[\"x1\"],\n",
    "        rounded=True,\n",
    "        filled=True\n",
    "    )"
   ]
  },
  {
   "cell_type": "code",
   "execution_count": 12,
   "metadata": {
    "colab": {
     "base_uri": "https://localhost:8080/",
     "height": 380
    },
    "executionInfo": {
     "elapsed": 208,
     "status": "ok",
     "timestamp": 1613111212906,
     "user": {
      "displayName": "A B M Rafi (Rafi) Sazzad",
      "photoUrl": "",
      "userId": "16735321769566946040"
     },
     "user_tz": 360
    },
    "id": "AsPjRdVd6jfp",
    "outputId": "e31b7a08-b9fe-4fa1-c347-013aa471fc91"
   },
   "outputs": [
    {
     "data": {
      "image/svg+xml": [
       "<?xml version=\"1.0\" encoding=\"UTF-8\" standalone=\"no\"?>\n",
       "<!DOCTYPE svg PUBLIC \"-//W3C//DTD SVG 1.1//EN\"\n",
       " \"http://www.w3.org/Graphics/SVG/1.1/DTD/svg11.dtd\">\n",
       "<!-- Generated by graphviz version 2.40.1 (20161225.0304)\n",
       " -->\n",
       "<!-- Title: Tree Pages: 1 -->\n",
       "<svg width=\"486pt\" height=\"269pt\"\n",
       " viewBox=\"0.00 0.00 486.00 269.00\" xmlns=\"http://www.w3.org/2000/svg\" xmlns:xlink=\"http://www.w3.org/1999/xlink\">\n",
       "<g id=\"graph0\" class=\"graph\" transform=\"scale(1 1) rotate(0) translate(4 265)\">\n",
       "<title>Tree</title>\n",
       "<polygon fill=\"#ffffff\" stroke=\"transparent\" points=\"-4,4 -4,-265 482,-265 482,4 -4,4\"/>\n",
       "<!-- 0 -->\n",
       "<g id=\"node1\" class=\"node\">\n",
       "<title>0</title>\n",
       "<path fill=\"#f6d6be\" stroke=\"#000000\" d=\"M281,-261C281,-261 193,-261 193,-261 187,-261 181,-255 181,-249 181,-249 181,-205 181,-205 181,-199 187,-193 193,-193 193,-193 281,-193 281,-193 287,-193 293,-199 293,-205 293,-205 293,-249 293,-249 293,-255 287,-261 281,-261\"/>\n",
       "<text text-anchor=\"middle\" x=\"237\" y=\"-245.8\" font-family=\"Helvetica,sans-Serif\" font-size=\"14.00\" fill=\"#000000\">x1 &lt;= 0.197</text>\n",
       "<text text-anchor=\"middle\" x=\"237\" y=\"-230.8\" font-family=\"Helvetica,sans-Serif\" font-size=\"14.00\" fill=\"#000000\">mse = 0.098</text>\n",
       "<text text-anchor=\"middle\" x=\"237\" y=\"-215.8\" font-family=\"Helvetica,sans-Serif\" font-size=\"14.00\" fill=\"#000000\">samples = 200</text>\n",
       "<text text-anchor=\"middle\" x=\"237\" y=\"-200.8\" font-family=\"Helvetica,sans-Serif\" font-size=\"14.00\" fill=\"#000000\">value = 0.354</text>\n",
       "</g>\n",
       "<!-- 1 -->\n",
       "<g id=\"node2\" class=\"node\">\n",
       "<title>1</title>\n",
       "<path fill=\"#eb9d65\" stroke=\"#000000\" d=\"M214,-157C214,-157 134,-157 134,-157 128,-157 122,-151 122,-145 122,-145 122,-101 122,-101 122,-95 128,-89 134,-89 134,-89 214,-89 214,-89 220,-89 226,-95 226,-101 226,-101 226,-145 226,-145 226,-151 220,-157 214,-157\"/>\n",
       "<text text-anchor=\"middle\" x=\"174\" y=\"-141.8\" font-family=\"Helvetica,sans-Serif\" font-size=\"14.00\" fill=\"#000000\">x1 &lt;= 0.092</text>\n",
       "<text text-anchor=\"middle\" x=\"174\" y=\"-126.8\" font-family=\"Helvetica,sans-Serif\" font-size=\"14.00\" fill=\"#000000\">mse = 0.038</text>\n",
       "<text text-anchor=\"middle\" x=\"174\" y=\"-111.8\" font-family=\"Helvetica,sans-Serif\" font-size=\"14.00\" fill=\"#000000\">samples = 44</text>\n",
       "<text text-anchor=\"middle\" x=\"174\" y=\"-96.8\" font-family=\"Helvetica,sans-Serif\" font-size=\"14.00\" fill=\"#000000\">value = 0.689</text>\n",
       "</g>\n",
       "<!-- 0&#45;&gt;1 -->\n",
       "<g id=\"edge1\" class=\"edge\">\n",
       "<title>0&#45;&gt;1</title>\n",
       "<path fill=\"none\" stroke=\"#000000\" d=\"M216.3714,-192.9465C211.1501,-184.3271 205.4745,-174.9579 200.0245,-165.9611\"/>\n",
       "<polygon fill=\"#000000\" stroke=\"#000000\" points=\"202.8497,-163.8697 194.6749,-157.13 196.8626,-167.4965 202.8497,-163.8697\"/>\n",
       "<text text-anchor=\"middle\" x=\"188.7142\" y=\"-177.709\" font-family=\"Helvetica,sans-Serif\" font-size=\"14.00\" fill=\"#000000\">True</text>\n",
       "</g>\n",
       "<!-- 4 -->\n",
       "<g id=\"node5\" class=\"node\">\n",
       "<title>4</title>\n",
       "<path fill=\"#fae6d7\" stroke=\"#000000\" d=\"M344,-157C344,-157 256,-157 256,-157 250,-157 244,-151 244,-145 244,-145 244,-101 244,-101 244,-95 250,-89 256,-89 256,-89 344,-89 344,-89 350,-89 356,-95 356,-101 356,-101 356,-145 356,-145 356,-151 350,-157 344,-157\"/>\n",
       "<text text-anchor=\"middle\" x=\"300\" y=\"-141.8\" font-family=\"Helvetica,sans-Serif\" font-size=\"14.00\" fill=\"#000000\">x1 &lt;= 0.772</text>\n",
       "<text text-anchor=\"middle\" x=\"300\" y=\"-126.8\" font-family=\"Helvetica,sans-Serif\" font-size=\"14.00\" fill=\"#000000\">mse = 0.074</text>\n",
       "<text text-anchor=\"middle\" x=\"300\" y=\"-111.8\" font-family=\"Helvetica,sans-Serif\" font-size=\"14.00\" fill=\"#000000\">samples = 156</text>\n",
       "<text text-anchor=\"middle\" x=\"300\" y=\"-96.8\" font-family=\"Helvetica,sans-Serif\" font-size=\"14.00\" fill=\"#000000\">value = 0.259</text>\n",
       "</g>\n",
       "<!-- 0&#45;&gt;4 -->\n",
       "<g id=\"edge4\" class=\"edge\">\n",
       "<title>0&#45;&gt;4</title>\n",
       "<path fill=\"none\" stroke=\"#000000\" d=\"M257.6286,-192.9465C262.8499,-184.3271 268.5255,-174.9579 273.9755,-165.9611\"/>\n",
       "<polygon fill=\"#000000\" stroke=\"#000000\" points=\"277.1374,-167.4965 279.3251,-157.13 271.1503,-163.8697 277.1374,-167.4965\"/>\n",
       "<text text-anchor=\"middle\" x=\"285.2858\" y=\"-177.709\" font-family=\"Helvetica,sans-Serif\" font-size=\"14.00\" fill=\"#000000\">False</text>\n",
       "</g>\n",
       "<!-- 2 -->\n",
       "<g id=\"node3\" class=\"node\">\n",
       "<title>2</title>\n",
       "<path fill=\"#e58139\" stroke=\"#000000\" d=\"M92,-53C92,-53 12,-53 12,-53 6,-53 0,-47 0,-41 0,-41 0,-12 0,-12 0,-6 6,0 12,0 12,0 92,0 92,0 98,0 104,-6 104,-12 104,-12 104,-41 104,-41 104,-47 98,-53 92,-53\"/>\n",
       "<text text-anchor=\"middle\" x=\"52\" y=\"-37.8\" font-family=\"Helvetica,sans-Serif\" font-size=\"14.00\" fill=\"#000000\">mse = 0.018</text>\n",
       "<text text-anchor=\"middle\" x=\"52\" y=\"-22.8\" font-family=\"Helvetica,sans-Serif\" font-size=\"14.00\" fill=\"#000000\">samples = 20</text>\n",
       "<text text-anchor=\"middle\" x=\"52\" y=\"-7.8\" font-family=\"Helvetica,sans-Serif\" font-size=\"14.00\" fill=\"#000000\">value = 0.854</text>\n",
       "</g>\n",
       "<!-- 1&#45;&gt;2 -->\n",
       "<g id=\"edge2\" class=\"edge\">\n",
       "<title>1&#45;&gt;2</title>\n",
       "<path fill=\"none\" stroke=\"#000000\" d=\"M130.9874,-88.9777C118.9476,-79.4545 105.8812,-69.1191 93.9065,-59.6473\"/>\n",
       "<polygon fill=\"#000000\" stroke=\"#000000\" points=\"95.8311,-56.7072 85.8167,-53.2485 91.4885,-62.1973 95.8311,-56.7072\"/>\n",
       "</g>\n",
       "<!-- 3 -->\n",
       "<g id=\"node4\" class=\"node\">\n",
       "<title>3</title>\n",
       "<path fill=\"#f0b489\" stroke=\"#000000\" d=\"M214,-53C214,-53 134,-53 134,-53 128,-53 122,-47 122,-41 122,-41 122,-12 122,-12 122,-6 128,0 134,0 134,0 214,0 214,0 220,0 226,-6 226,-12 226,-12 226,-41 226,-41 226,-47 220,-53 214,-53\"/>\n",
       "<text text-anchor=\"middle\" x=\"174\" y=\"-37.8\" font-family=\"Helvetica,sans-Serif\" font-size=\"14.00\" fill=\"#000000\">mse = 0.013</text>\n",
       "<text text-anchor=\"middle\" x=\"174\" y=\"-22.8\" font-family=\"Helvetica,sans-Serif\" font-size=\"14.00\" fill=\"#000000\">samples = 24</text>\n",
       "<text text-anchor=\"middle\" x=\"174\" y=\"-7.8\" font-family=\"Helvetica,sans-Serif\" font-size=\"14.00\" fill=\"#000000\">value = 0.552</text>\n",
       "</g>\n",
       "<!-- 1&#45;&gt;3 -->\n",
       "<g id=\"edge3\" class=\"edge\">\n",
       "<title>1&#45;&gt;3</title>\n",
       "<path fill=\"none\" stroke=\"#000000\" d=\"M174,-88.9777C174,-80.7364 174,-71.887 174,-63.5153\"/>\n",
       "<polygon fill=\"#000000\" stroke=\"#000000\" points=\"177.5001,-63.2484 174,-53.2485 170.5001,-63.2485 177.5001,-63.2484\"/>\n",
       "</g>\n",
       "<!-- 5 -->\n",
       "<g id=\"node6\" class=\"node\">\n",
       "<title>5</title>\n",
       "<path fill=\"#ffffff\" stroke=\"#000000\" d=\"M344,-53C344,-53 256,-53 256,-53 250,-53 244,-47 244,-41 244,-41 244,-12 244,-12 244,-6 250,0 256,0 256,0 344,0 344,0 350,0 356,-6 356,-12 356,-12 356,-41 356,-41 356,-47 350,-53 344,-53\"/>\n",
       "<text text-anchor=\"middle\" x=\"300\" y=\"-37.8\" font-family=\"Helvetica,sans-Serif\" font-size=\"14.00\" fill=\"#000000\">mse = 0.015</text>\n",
       "<text text-anchor=\"middle\" x=\"300\" y=\"-22.8\" font-family=\"Helvetica,sans-Serif\" font-size=\"14.00\" fill=\"#000000\">samples = 110</text>\n",
       "<text text-anchor=\"middle\" x=\"300\" y=\"-7.8\" font-family=\"Helvetica,sans-Serif\" font-size=\"14.00\" fill=\"#000000\">value = 0.111</text>\n",
       "</g>\n",
       "<!-- 4&#45;&gt;5 -->\n",
       "<g id=\"edge5\" class=\"edge\">\n",
       "<title>4&#45;&gt;5</title>\n",
       "<path fill=\"none\" stroke=\"#000000\" d=\"M300,-88.9777C300,-80.7364 300,-71.887 300,-63.5153\"/>\n",
       "<polygon fill=\"#000000\" stroke=\"#000000\" points=\"303.5001,-63.2484 300,-53.2485 296.5001,-63.2485 303.5001,-63.2484\"/>\n",
       "</g>\n",
       "<!-- 6 -->\n",
       "<g id=\"node7\" class=\"node\">\n",
       "<title>6</title>\n",
       "<path fill=\"#edaa79\" stroke=\"#000000\" d=\"M466,-53C466,-53 386,-53 386,-53 380,-53 374,-47 374,-41 374,-41 374,-12 374,-12 374,-6 380,0 386,0 386,0 466,0 466,0 472,0 478,-6 478,-12 478,-12 478,-41 478,-41 478,-47 472,-53 466,-53\"/>\n",
       "<text text-anchor=\"middle\" x=\"426\" y=\"-37.8\" font-family=\"Helvetica,sans-Serif\" font-size=\"14.00\" fill=\"#000000\">mse = 0.036</text>\n",
       "<text text-anchor=\"middle\" x=\"426\" y=\"-22.8\" font-family=\"Helvetica,sans-Serif\" font-size=\"14.00\" fill=\"#000000\">samples = 46</text>\n",
       "<text text-anchor=\"middle\" x=\"426\" y=\"-7.8\" font-family=\"Helvetica,sans-Serif\" font-size=\"14.00\" fill=\"#000000\">value = 0.615</text>\n",
       "</g>\n",
       "<!-- 4&#45;&gt;6 -->\n",
       "<g id=\"edge6\" class=\"edge\">\n",
       "<title>4&#45;&gt;6</title>\n",
       "<path fill=\"none\" stroke=\"#000000\" d=\"M344.4229,-88.9777C356.977,-79.3629 370.6119,-68.9203 383.076,-59.3743\"/>\n",
       "<polygon fill=\"#000000\" stroke=\"#000000\" points=\"385.2635,-62.1076 391.0745,-53.2485 381.0073,-56.5502 385.2635,-62.1076\"/>\n",
       "</g>\n",
       "</g>\n",
       "</svg>\n"
      ],
      "text/plain": [
       "<graphviz.files.Source at 0x7efbeed9ea58>"
      ]
     },
     "execution_count": 12,
     "metadata": {
      "tags": []
     },
     "output_type": "execute_result"
    }
   ],
   "source": [
    "Source.from_file(os.path.join(IMAGES_PATH, \"regression1_tree.dot\"))"
   ]
  },
  {
   "cell_type": "code",
   "execution_count": 19,
   "metadata": {
    "colab": {
     "base_uri": "https://localhost:8080/",
     "height": 518
    },
    "executionInfo": {
     "elapsed": 238,
     "status": "ok",
     "timestamp": 1613152840172,
     "user": {
      "displayName": "A B M Rafi (Rafi) Sazzad",
      "photoUrl": "",
      "userId": "16735321769566946040"
     },
     "user_tz": 360
    },
    "id": "L0_Ici5m6wE_",
    "outputId": "7ef6f96a-dc19-4711-81ab-b156d009173f"
   },
   "outputs": [
    {
     "data": {
      "image/svg+xml": [
       "<?xml version=\"1.0\" encoding=\"UTF-8\" standalone=\"no\"?>\n",
       "<!DOCTYPE svg PUBLIC \"-//W3C//DTD SVG 1.1//EN\"\n",
       " \"http://www.w3.org/Graphics/SVG/1.1/DTD/svg11.dtd\">\n",
       "<!-- Generated by graphviz version 2.40.1 (20161225.0304)\n",
       " -->\n",
       "<!-- Title: Tree Pages: 1 -->\n",
       "<svg width=\"966pt\" height=\"373pt\"\n",
       " viewBox=\"0.00 0.00 966.00 373.00\" xmlns=\"http://www.w3.org/2000/svg\" xmlns:xlink=\"http://www.w3.org/1999/xlink\">\n",
       "<g id=\"graph0\" class=\"graph\" transform=\"scale(1 1) rotate(0) translate(4 369)\">\n",
       "<title>Tree</title>\n",
       "<polygon fill=\"#ffffff\" stroke=\"transparent\" points=\"-4,4 -4,-369 962,-369 962,4 -4,4\"/>\n",
       "<!-- 0 -->\n",
       "<g id=\"node1\" class=\"node\">\n",
       "<title>0</title>\n",
       "<path fill=\"#f7d8c1\" stroke=\"#000000\" d=\"M521,-365C521,-365 433,-365 433,-365 427,-365 421,-359 421,-353 421,-353 421,-309 421,-309 421,-303 427,-297 433,-297 433,-297 521,-297 521,-297 527,-297 533,-303 533,-309 533,-309 533,-353 533,-353 533,-359 527,-365 521,-365\"/>\n",
       "<text text-anchor=\"middle\" x=\"477\" y=\"-349.8\" font-family=\"Helvetica,sans-Serif\" font-size=\"14.00\" fill=\"#000000\">x1 &lt;= 0.197</text>\n",
       "<text text-anchor=\"middle\" x=\"477\" y=\"-334.8\" font-family=\"Helvetica,sans-Serif\" font-size=\"14.00\" fill=\"#000000\">mse = 0.098</text>\n",
       "<text text-anchor=\"middle\" x=\"477\" y=\"-319.8\" font-family=\"Helvetica,sans-Serif\" font-size=\"14.00\" fill=\"#000000\">samples = 200</text>\n",
       "<text text-anchor=\"middle\" x=\"477\" y=\"-304.8\" font-family=\"Helvetica,sans-Serif\" font-size=\"14.00\" fill=\"#000000\">value = 0.354</text>\n",
       "</g>\n",
       "<!-- 1 -->\n",
       "<g id=\"node2\" class=\"node\">\n",
       "<title>1</title>\n",
       "<path fill=\"#eda774\" stroke=\"#000000\" d=\"M395,-261C395,-261 315,-261 315,-261 309,-261 303,-255 303,-249 303,-249 303,-205 303,-205 303,-199 309,-193 315,-193 315,-193 395,-193 395,-193 401,-193 407,-199 407,-205 407,-205 407,-249 407,-249 407,-255 401,-261 395,-261\"/>\n",
       "<text text-anchor=\"middle\" x=\"355\" y=\"-245.8\" font-family=\"Helvetica,sans-Serif\" font-size=\"14.00\" fill=\"#000000\">x1 &lt;= 0.092</text>\n",
       "<text text-anchor=\"middle\" x=\"355\" y=\"-230.8\" font-family=\"Helvetica,sans-Serif\" font-size=\"14.00\" fill=\"#000000\">mse = 0.038</text>\n",
       "<text text-anchor=\"middle\" x=\"355\" y=\"-215.8\" font-family=\"Helvetica,sans-Serif\" font-size=\"14.00\" fill=\"#000000\">samples = 44</text>\n",
       "<text text-anchor=\"middle\" x=\"355\" y=\"-200.8\" font-family=\"Helvetica,sans-Serif\" font-size=\"14.00\" fill=\"#000000\">value = 0.689</text>\n",
       "</g>\n",
       "<!-- 0&#45;&gt;1 -->\n",
       "<g id=\"edge1\" class=\"edge\">\n",
       "<title>0&#45;&gt;1</title>\n",
       "<path fill=\"none\" stroke=\"#000000\" d=\"M437.0526,-296.9465C426.0988,-287.6088 414.1127,-277.3911 402.768,-267.7203\"/>\n",
       "<polygon fill=\"#000000\" stroke=\"#000000\" points=\"404.9179,-264.9538 395.0371,-261.13 400.3767,-270.2809 404.9179,-264.9538\"/>\n",
       "<text text-anchor=\"middle\" x=\"397.022\" y=\"-282.3511\" font-family=\"Helvetica,sans-Serif\" font-size=\"14.00\" fill=\"#000000\">True</text>\n",
       "</g>\n",
       "<!-- 8 -->\n",
       "<g id=\"node9\" class=\"node\">\n",
       "<title>8</title>\n",
       "<path fill=\"#fae5d7\" stroke=\"#000000\" d=\"M643,-261C643,-261 555,-261 555,-261 549,-261 543,-255 543,-249 543,-249 543,-205 543,-205 543,-199 549,-193 555,-193 555,-193 643,-193 643,-193 649,-193 655,-199 655,-205 655,-205 655,-249 655,-249 655,-255 649,-261 643,-261\"/>\n",
       "<text text-anchor=\"middle\" x=\"599\" y=\"-245.8\" font-family=\"Helvetica,sans-Serif\" font-size=\"14.00\" fill=\"#000000\">x1 &lt;= 0.772</text>\n",
       "<text text-anchor=\"middle\" x=\"599\" y=\"-230.8\" font-family=\"Helvetica,sans-Serif\" font-size=\"14.00\" fill=\"#000000\">mse = 0.074</text>\n",
       "<text text-anchor=\"middle\" x=\"599\" y=\"-215.8\" font-family=\"Helvetica,sans-Serif\" font-size=\"14.00\" fill=\"#000000\">samples = 156</text>\n",
       "<text text-anchor=\"middle\" x=\"599\" y=\"-200.8\" font-family=\"Helvetica,sans-Serif\" font-size=\"14.00\" fill=\"#000000\">value = 0.259</text>\n",
       "</g>\n",
       "<!-- 0&#45;&gt;8 -->\n",
       "<g id=\"edge8\" class=\"edge\">\n",
       "<title>0&#45;&gt;8</title>\n",
       "<path fill=\"none\" stroke=\"#000000\" d=\"M516.9474,-296.9465C527.9012,-287.6088 539.8873,-277.3911 551.232,-267.7203\"/>\n",
       "<polygon fill=\"#000000\" stroke=\"#000000\" points=\"553.6233,-270.2809 558.9629,-261.13 549.0821,-264.9538 553.6233,-270.2809\"/>\n",
       "<text text-anchor=\"middle\" x=\"556.978\" y=\"-282.3511\" font-family=\"Helvetica,sans-Serif\" font-size=\"14.00\" fill=\"#000000\">False</text>\n",
       "</g>\n",
       "<!-- 2 -->\n",
       "<g id=\"node3\" class=\"node\">\n",
       "<title>2</title>\n",
       "<path fill=\"#e88f4e\" stroke=\"#000000\" d=\"M214,-157C214,-157 134,-157 134,-157 128,-157 122,-151 122,-145 122,-145 122,-101 122,-101 122,-95 128,-89 134,-89 134,-89 214,-89 214,-89 220,-89 226,-95 226,-101 226,-101 226,-145 226,-145 226,-151 220,-157 214,-157\"/>\n",
       "<text text-anchor=\"middle\" x=\"174\" y=\"-141.8\" font-family=\"Helvetica,sans-Serif\" font-size=\"14.00\" fill=\"#000000\">x1 &lt;= 0.046</text>\n",
       "<text text-anchor=\"middle\" x=\"174\" y=\"-126.8\" font-family=\"Helvetica,sans-Serif\" font-size=\"14.00\" fill=\"#000000\">mse = 0.018</text>\n",
       "<text text-anchor=\"middle\" x=\"174\" y=\"-111.8\" font-family=\"Helvetica,sans-Serif\" font-size=\"14.00\" fill=\"#000000\">samples = 20</text>\n",
       "<text text-anchor=\"middle\" x=\"174\" y=\"-96.8\" font-family=\"Helvetica,sans-Serif\" font-size=\"14.00\" fill=\"#000000\">value = 0.854</text>\n",
       "</g>\n",
       "<!-- 1&#45;&gt;2 -->\n",
       "<g id=\"edge2\" class=\"edge\">\n",
       "<title>1&#45;&gt;2</title>\n",
       "<path fill=\"none\" stroke=\"#000000\" d=\"M302.6473,-196.9189C281.5417,-184.7919 257.0479,-170.7181 235.1315,-158.1253\"/>\n",
       "<polygon fill=\"#000000\" stroke=\"#000000\" points=\"236.6494,-154.9608 226.235,-153.0135 233.1619,-161.0303 236.6494,-154.9608\"/>\n",
       "</g>\n",
       "<!-- 5 -->\n",
       "<g id=\"node6\" class=\"node\">\n",
       "<title>5</title>\n",
       "<path fill=\"#f1bb94\" stroke=\"#000000\" d=\"M395,-157C395,-157 315,-157 315,-157 309,-157 303,-151 303,-145 303,-145 303,-101 303,-101 303,-95 309,-89 315,-89 315,-89 395,-89 395,-89 401,-89 407,-95 407,-101 407,-101 407,-145 407,-145 407,-151 401,-157 395,-157\"/>\n",
       "<text text-anchor=\"middle\" x=\"355\" y=\"-141.8\" font-family=\"Helvetica,sans-Serif\" font-size=\"14.00\" fill=\"#000000\">x1 &lt;= 0.13</text>\n",
       "<text text-anchor=\"middle\" x=\"355\" y=\"-126.8\" font-family=\"Helvetica,sans-Serif\" font-size=\"14.00\" fill=\"#000000\">mse = 0.013</text>\n",
       "<text text-anchor=\"middle\" x=\"355\" y=\"-111.8\" font-family=\"Helvetica,sans-Serif\" font-size=\"14.00\" fill=\"#000000\">samples = 24</text>\n",
       "<text text-anchor=\"middle\" x=\"355\" y=\"-96.8\" font-family=\"Helvetica,sans-Serif\" font-size=\"14.00\" fill=\"#000000\">value = 0.552</text>\n",
       "</g>\n",
       "<!-- 1&#45;&gt;5 -->\n",
       "<g id=\"edge5\" class=\"edge\">\n",
       "<title>1&#45;&gt;5</title>\n",
       "<path fill=\"none\" stroke=\"#000000\" d=\"M355,-192.9465C355,-184.776 355,-175.9318 355,-167.3697\"/>\n",
       "<polygon fill=\"#000000\" stroke=\"#000000\" points=\"358.5001,-167.13 355,-157.13 351.5001,-167.13 358.5001,-167.13\"/>\n",
       "</g>\n",
       "<!-- 3 -->\n",
       "<g id=\"node4\" class=\"node\">\n",
       "<title>3</title>\n",
       "<path fill=\"#e58139\" stroke=\"#000000\" d=\"M92,-53C92,-53 12,-53 12,-53 6,-53 0,-47 0,-41 0,-41 0,-12 0,-12 0,-6 6,0 12,0 12,0 92,0 92,0 98,0 104,-6 104,-12 104,-12 104,-41 104,-41 104,-47 98,-53 92,-53\"/>\n",
       "<text text-anchor=\"middle\" x=\"52\" y=\"-37.8\" font-family=\"Helvetica,sans-Serif\" font-size=\"14.00\" fill=\"#000000\">mse = 0.012</text>\n",
       "<text text-anchor=\"middle\" x=\"52\" y=\"-22.8\" font-family=\"Helvetica,sans-Serif\" font-size=\"14.00\" fill=\"#000000\">samples = 10</text>\n",
       "<text text-anchor=\"middle\" x=\"52\" y=\"-7.8\" font-family=\"Helvetica,sans-Serif\" font-size=\"14.00\" fill=\"#000000\">value = 0.947</text>\n",
       "</g>\n",
       "<!-- 2&#45;&gt;3 -->\n",
       "<g id=\"edge3\" class=\"edge\">\n",
       "<title>2&#45;&gt;3</title>\n",
       "<path fill=\"none\" stroke=\"#000000\" d=\"M130.9874,-88.9777C118.9476,-79.4545 105.8812,-69.1191 93.9065,-59.6473\"/>\n",
       "<polygon fill=\"#000000\" stroke=\"#000000\" points=\"95.8311,-56.7072 85.8167,-53.2485 91.4885,-62.1973 95.8311,-56.7072\"/>\n",
       "</g>\n",
       "<!-- 4 -->\n",
       "<g id=\"node5\" class=\"node\">\n",
       "<title>4</title>\n",
       "<path fill=\"#eb9c64\" stroke=\"#000000\" d=\"M214,-53C214,-53 134,-53 134,-53 128,-53 122,-47 122,-41 122,-41 122,-12 122,-12 122,-6 128,0 134,0 134,0 214,0 214,0 220,0 226,-6 226,-12 226,-12 226,-41 226,-41 226,-47 220,-53 214,-53\"/>\n",
       "<text text-anchor=\"middle\" x=\"174\" y=\"-37.8\" font-family=\"Helvetica,sans-Serif\" font-size=\"14.00\" fill=\"#000000\">mse = 0.006</text>\n",
       "<text text-anchor=\"middle\" x=\"174\" y=\"-22.8\" font-family=\"Helvetica,sans-Serif\" font-size=\"14.00\" fill=\"#000000\">samples = 10</text>\n",
       "<text text-anchor=\"middle\" x=\"174\" y=\"-7.8\" font-family=\"Helvetica,sans-Serif\" font-size=\"14.00\" fill=\"#000000\">value = 0.761</text>\n",
       "</g>\n",
       "<!-- 2&#45;&gt;4 -->\n",
       "<g id=\"edge4\" class=\"edge\">\n",
       "<title>2&#45;&gt;4</title>\n",
       "<path fill=\"none\" stroke=\"#000000\" d=\"M174,-88.9777C174,-80.7364 174,-71.887 174,-63.5153\"/>\n",
       "<polygon fill=\"#000000\" stroke=\"#000000\" points=\"177.5001,-63.2484 174,-53.2485 170.5001,-63.2485 177.5001,-63.2484\"/>\n",
       "</g>\n",
       "<!-- 6 -->\n",
       "<g id=\"node7\" class=\"node\">\n",
       "<title>6</title>\n",
       "<path fill=\"#eeaf81\" stroke=\"#000000\" d=\"M336,-53C336,-53 256,-53 256,-53 250,-53 244,-47 244,-41 244,-41 244,-12 244,-12 244,-6 250,0 256,0 256,0 336,0 336,0 342,0 348,-6 348,-12 348,-12 348,-41 348,-41 348,-47 342,-53 336,-53\"/>\n",
       "<text text-anchor=\"middle\" x=\"296\" y=\"-37.8\" font-family=\"Helvetica,sans-Serif\" font-size=\"14.00\" fill=\"#000000\">mse = 0.007</text>\n",
       "<text text-anchor=\"middle\" x=\"296\" y=\"-22.8\" font-family=\"Helvetica,sans-Serif\" font-size=\"14.00\" fill=\"#000000\">samples = 9</text>\n",
       "<text text-anchor=\"middle\" x=\"296\" y=\"-7.8\" font-family=\"Helvetica,sans-Serif\" font-size=\"14.00\" fill=\"#000000\">value = 0.633</text>\n",
       "</g>\n",
       "<!-- 5&#45;&gt;6 -->\n",
       "<g id=\"edge6\" class=\"edge\">\n",
       "<title>5&#45;&gt;6</title>\n",
       "<path fill=\"none\" stroke=\"#000000\" d=\"M334.1988,-88.9777C328.8242,-80.187 323.0265,-70.7044 317.6115,-61.8477\"/>\n",
       "<polygon fill=\"#000000\" stroke=\"#000000\" points=\"320.5564,-59.9545 312.354,-53.2485 314.5842,-63.6059 320.5564,-59.9545\"/>\n",
       "</g>\n",
       "<!-- 7 -->\n",
       "<g id=\"node8\" class=\"node\">\n",
       "<title>7</title>\n",
       "<path fill=\"#f2c29f\" stroke=\"#000000\" d=\"M458,-53C458,-53 378,-53 378,-53 372,-53 366,-47 366,-41 366,-41 366,-12 366,-12 366,-6 372,0 378,0 378,0 458,0 458,0 464,0 470,-6 470,-12 470,-12 470,-41 470,-41 470,-47 464,-53 458,-53\"/>\n",
       "<text text-anchor=\"middle\" x=\"418\" y=\"-37.8\" font-family=\"Helvetica,sans-Serif\" font-size=\"14.00\" fill=\"#000000\">mse = 0.01</text>\n",
       "<text text-anchor=\"middle\" x=\"418\" y=\"-22.8\" font-family=\"Helvetica,sans-Serif\" font-size=\"14.00\" fill=\"#000000\">samples = 15</text>\n",
       "<text text-anchor=\"middle\" x=\"418\" y=\"-7.8\" font-family=\"Helvetica,sans-Serif\" font-size=\"14.00\" fill=\"#000000\">value = 0.504</text>\n",
       "</g>\n",
       "<!-- 5&#45;&gt;7 -->\n",
       "<g id=\"edge7\" class=\"edge\">\n",
       "<title>5&#45;&gt;7</title>\n",
       "<path fill=\"none\" stroke=\"#000000\" d=\"M377.2114,-88.9777C382.9504,-80.187 389.1412,-70.7044 394.9233,-61.8477\"/>\n",
       "<polygon fill=\"#000000\" stroke=\"#000000\" points=\"398.0013,-63.5354 400.5373,-53.2485 392.1398,-59.7087 398.0013,-63.5354\"/>\n",
       "</g>\n",
       "<!-- 9 -->\n",
       "<g id=\"node10\" class=\"node\">\n",
       "<title>9</title>\n",
       "<path fill=\"#fefbf9\" stroke=\"#000000\" d=\"M643,-157C643,-157 555,-157 555,-157 549,-157 543,-151 543,-145 543,-145 543,-101 543,-101 543,-95 549,-89 555,-89 555,-89 643,-89 643,-89 649,-89 655,-95 655,-101 655,-101 655,-145 655,-145 655,-151 649,-157 643,-157\"/>\n",
       "<text text-anchor=\"middle\" x=\"599\" y=\"-141.8\" font-family=\"Helvetica,sans-Serif\" font-size=\"14.00\" fill=\"#000000\">x1 &lt;= 0.287</text>\n",
       "<text text-anchor=\"middle\" x=\"599\" y=\"-126.8\" font-family=\"Helvetica,sans-Serif\" font-size=\"14.00\" fill=\"#000000\">mse = 0.015</text>\n",
       "<text text-anchor=\"middle\" x=\"599\" y=\"-111.8\" font-family=\"Helvetica,sans-Serif\" font-size=\"14.00\" fill=\"#000000\">samples = 110</text>\n",
       "<text text-anchor=\"middle\" x=\"599\" y=\"-96.8\" font-family=\"Helvetica,sans-Serif\" font-size=\"14.00\" fill=\"#000000\">value = 0.111</text>\n",
       "</g>\n",
       "<!-- 8&#45;&gt;9 -->\n",
       "<g id=\"edge9\" class=\"edge\">\n",
       "<title>8&#45;&gt;9</title>\n",
       "<path fill=\"none\" stroke=\"#000000\" d=\"M599,-192.9465C599,-184.776 599,-175.9318 599,-167.3697\"/>\n",
       "<polygon fill=\"#000000\" stroke=\"#000000\" points=\"602.5001,-167.13 599,-157.13 595.5001,-167.13 602.5001,-167.13\"/>\n",
       "</g>\n",
       "<!-- 12 -->\n",
       "<g id=\"node13\" class=\"node\">\n",
       "<title>12</title>\n",
       "<path fill=\"#efb285\" stroke=\"#000000\" d=\"M824,-157C824,-157 744,-157 744,-157 738,-157 732,-151 732,-145 732,-145 732,-101 732,-101 732,-95 738,-89 744,-89 744,-89 824,-89 824,-89 830,-89 836,-95 836,-101 836,-101 836,-145 836,-145 836,-151 830,-157 824,-157\"/>\n",
       "<text text-anchor=\"middle\" x=\"784\" y=\"-141.8\" font-family=\"Helvetica,sans-Serif\" font-size=\"14.00\" fill=\"#000000\">x1 &lt;= 0.904</text>\n",
       "<text text-anchor=\"middle\" x=\"784\" y=\"-126.8\" font-family=\"Helvetica,sans-Serif\" font-size=\"14.00\" fill=\"#000000\">mse = 0.036</text>\n",
       "<text text-anchor=\"middle\" x=\"784\" y=\"-111.8\" font-family=\"Helvetica,sans-Serif\" font-size=\"14.00\" fill=\"#000000\">samples = 46</text>\n",
       "<text text-anchor=\"middle\" x=\"784\" y=\"-96.8\" font-family=\"Helvetica,sans-Serif\" font-size=\"14.00\" fill=\"#000000\">value = 0.615</text>\n",
       "</g>\n",
       "<!-- 8&#45;&gt;12 -->\n",
       "<g id=\"edge12\" class=\"edge\">\n",
       "<title>8&#45;&gt;12</title>\n",
       "<path fill=\"none\" stroke=\"#000000\" d=\"M655.0081,-195.5143C676.5063,-183.4289 701.1363,-169.5828 723.0739,-157.2503\"/>\n",
       "<polygon fill=\"#000000\" stroke=\"#000000\" points=\"724.9711,-160.199 731.9729,-152.2476 721.5408,-154.0971 724.9711,-160.199\"/>\n",
       "</g>\n",
       "<!-- 10 -->\n",
       "<g id=\"node11\" class=\"node\">\n",
       "<title>10</title>\n",
       "<path fill=\"#fae9dc\" stroke=\"#000000\" d=\"M580,-53C580,-53 500,-53 500,-53 494,-53 488,-47 488,-41 488,-41 488,-12 488,-12 488,-6 494,0 500,0 500,0 580,0 580,0 586,0 592,-6 592,-12 592,-12 592,-41 592,-41 592,-47 586,-53 580,-53\"/>\n",
       "<text text-anchor=\"middle\" x=\"540\" y=\"-37.8\" font-family=\"Helvetica,sans-Serif\" font-size=\"14.00\" fill=\"#000000\">mse = 0.006</text>\n",
       "<text text-anchor=\"middle\" x=\"540\" y=\"-22.8\" font-family=\"Helvetica,sans-Serif\" font-size=\"14.00\" fill=\"#000000\">samples = 19</text>\n",
       "<text text-anchor=\"middle\" x=\"540\" y=\"-7.8\" font-family=\"Helvetica,sans-Serif\" font-size=\"14.00\" fill=\"#000000\">value = 0.236</text>\n",
       "</g>\n",
       "<!-- 9&#45;&gt;10 -->\n",
       "<g id=\"edge10\" class=\"edge\">\n",
       "<title>9&#45;&gt;10</title>\n",
       "<path fill=\"none\" stroke=\"#000000\" d=\"M578.1988,-88.9777C572.8242,-80.187 567.0265,-70.7044 561.6115,-61.8477\"/>\n",
       "<polygon fill=\"#000000\" stroke=\"#000000\" points=\"564.5564,-59.9545 556.354,-53.2485 558.5842,-63.6059 564.5564,-59.9545\"/>\n",
       "</g>\n",
       "<!-- 11 -->\n",
       "<g id=\"node12\" class=\"node\">\n",
       "<title>11</title>\n",
       "<path fill=\"#ffffff\" stroke=\"#000000\" d=\"M702,-53C702,-53 622,-53 622,-53 616,-53 610,-47 610,-41 610,-41 610,-12 610,-12 610,-6 616,0 622,0 622,0 702,0 702,0 708,0 714,-6 714,-12 714,-12 714,-41 714,-41 714,-47 708,-53 702,-53\"/>\n",
       "<text text-anchor=\"middle\" x=\"662\" y=\"-37.8\" font-family=\"Helvetica,sans-Serif\" font-size=\"14.00\" fill=\"#000000\">mse = 0.013</text>\n",
       "<text text-anchor=\"middle\" x=\"662\" y=\"-22.8\" font-family=\"Helvetica,sans-Serif\" font-size=\"14.00\" fill=\"#000000\">samples = 91</text>\n",
       "<text text-anchor=\"middle\" x=\"662\" y=\"-7.8\" font-family=\"Helvetica,sans-Serif\" font-size=\"14.00\" fill=\"#000000\">value = 0.084</text>\n",
       "</g>\n",
       "<!-- 9&#45;&gt;11 -->\n",
       "<g id=\"edge11\" class=\"edge\">\n",
       "<title>9&#45;&gt;11</title>\n",
       "<path fill=\"none\" stroke=\"#000000\" d=\"M621.2114,-88.9777C626.9504,-80.187 633.1412,-70.7044 638.9233,-61.8477\"/>\n",
       "<polygon fill=\"#000000\" stroke=\"#000000\" points=\"642.0013,-63.5354 644.5373,-53.2485 636.1398,-59.7087 642.0013,-63.5354\"/>\n",
       "</g>\n",
       "<!-- 13 -->\n",
       "<g id=\"node14\" class=\"node\">\n",
       "<title>13</title>\n",
       "<path fill=\"#f3c4a2\" stroke=\"#000000\" d=\"M824,-53C824,-53 744,-53 744,-53 738,-53 732,-47 732,-41 732,-41 732,-12 732,-12 732,-6 738,0 744,0 744,0 824,0 824,0 830,0 836,-6 836,-12 836,-12 836,-41 836,-41 836,-47 830,-53 824,-53\"/>\n",
       "<text text-anchor=\"middle\" x=\"784\" y=\"-37.8\" font-family=\"Helvetica,sans-Serif\" font-size=\"14.00\" fill=\"#000000\">mse = 0.012</text>\n",
       "<text text-anchor=\"middle\" x=\"784\" y=\"-22.8\" font-family=\"Helvetica,sans-Serif\" font-size=\"14.00\" fill=\"#000000\">samples = 28</text>\n",
       "<text text-anchor=\"middle\" x=\"784\" y=\"-7.8\" font-family=\"Helvetica,sans-Serif\" font-size=\"14.00\" fill=\"#000000\">value = 0.489</text>\n",
       "</g>\n",
       "<!-- 12&#45;&gt;13 -->\n",
       "<g id=\"edge13\" class=\"edge\">\n",
       "<title>12&#45;&gt;13</title>\n",
       "<path fill=\"none\" stroke=\"#000000\" d=\"M784,-88.9777C784,-80.7364 784,-71.887 784,-63.5153\"/>\n",
       "<polygon fill=\"#000000\" stroke=\"#000000\" points=\"787.5001,-63.2484 784,-53.2485 780.5001,-63.2485 787.5001,-63.2484\"/>\n",
       "</g>\n",
       "<!-- 14 -->\n",
       "<g id=\"node15\" class=\"node\">\n",
       "<title>14</title>\n",
       "<path fill=\"#e99558\" stroke=\"#000000\" d=\"M946,-53C946,-53 866,-53 866,-53 860,-53 854,-47 854,-41 854,-41 854,-12 854,-12 854,-6 860,0 866,0 866,0 946,0 946,0 952,0 958,-6 958,-12 958,-12 958,-41 958,-41 958,-47 952,-53 946,-53\"/>\n",
       "<text text-anchor=\"middle\" x=\"906\" y=\"-37.8\" font-family=\"Helvetica,sans-Serif\" font-size=\"14.00\" fill=\"#000000\">mse = 0.01</text>\n",
       "<text text-anchor=\"middle\" x=\"906\" y=\"-22.8\" font-family=\"Helvetica,sans-Serif\" font-size=\"14.00\" fill=\"#000000\">samples = 18</text>\n",
       "<text text-anchor=\"middle\" x=\"906\" y=\"-7.8\" font-family=\"Helvetica,sans-Serif\" font-size=\"14.00\" fill=\"#000000\">value = 0.811</text>\n",
       "</g>\n",
       "<!-- 12&#45;&gt;14 -->\n",
       "<g id=\"edge14\" class=\"edge\">\n",
       "<title>12&#45;&gt;14</title>\n",
       "<path fill=\"none\" stroke=\"#000000\" d=\"M827.0126,-88.9777C839.0524,-79.4545 852.1188,-69.1191 864.0935,-59.6473\"/>\n",
       "<polygon fill=\"#000000\" stroke=\"#000000\" points=\"866.5115,-62.1973 872.1833,-53.2485 862.1689,-56.7072 866.5115,-62.1973\"/>\n",
       "</g>\n",
       "</g>\n",
       "</svg>\n"
      ],
      "text/plain": [
       "<graphviz.files.Source at 0x7f891b027a58>"
      ]
     },
     "execution_count": 19,
     "metadata": {
      "tags": []
     },
     "output_type": "execute_result"
    }
   ],
   "source": [
    "export_graphviz(\n",
    "        tree_reg2,\n",
    "        out_file=os.path.join(IMAGES_PATH, \"regression2_tree.dot\"),\n",
    "        feature_names=[\"x1\"],\n",
    "        rounded=True,\n",
    "        filled=True\n",
    "    )\n",
    "Source.from_file(os.path.join(IMAGES_PATH, \"regression2_tree.dot\"))"
   ]
  },
  {
   "cell_type": "markdown",
   "metadata": {
    "id": "PdFon8is6jfq"
   },
   "source": [
    "### Task 5\n",
    "Similarly to task 4, discuss the effect of the restrictions on the regression results. "
   ]
  },
  {
   "cell_type": "markdown",
   "metadata": {
    "id": "jnvu6_9z-Om7"
   },
   "source": [
    "\n",
    "> In the left figure the regressor has the default hyperparameter max_depth=None which means infinite depth results into overfitting of the data. \n",
    "\n",
    "\n",
    "> In the right figure the hyperparamter min_samples_leaf is set to 10 which means the minimum number of samples need to be in a leaf node at least 10. Hence the model generalizes better and the overfitting was avoided. \n",
    "\n",
    "\n",
    "\n"
   ]
  },
  {
   "cell_type": "code",
   "execution_count": 20,
   "metadata": {
    "colab": {
     "base_uri": "https://localhost:8080/",
     "height": 307
    },
    "executionInfo": {
     "elapsed": 638,
     "status": "ok",
     "timestamp": 1613152848018,
     "user": {
      "displayName": "A B M Rafi (Rafi) Sazzad",
      "photoUrl": "",
      "userId": "16735321769566946040"
     },
     "user_tz": 360
    },
    "id": "5HGxh9je6jfq",
    "outputId": "b65df1d8-1c9d-4615-ab9a-f477f425ed72"
   },
   "outputs": [
    {
     "data": {
      "image/png": "[encoded data removed]",
      "text/plain": [
       "<Figure size 720x288 with 2 Axes>"
      ]
     },
     "metadata": {
      "needs_background": "light",
      "tags": []
     },
     "output_type": "display_data"
    }
   ],
   "source": [
    "tree_reg1 = DecisionTreeRegressor(random_state=42)\n",
    "tree_reg2 = DecisionTreeRegressor(random_state=42, min_samples_leaf=10)\n",
    "tree_reg1.fit(X, y)\n",
    "tree_reg2.fit(X, y)\n",
    "\n",
    "x1 = np.linspace(0, 1, 500).reshape(-1, 1)\n",
    "y_pred1 = tree_reg1.predict(x1)\n",
    "y_pred2 = tree_reg2.predict(x1)\n",
    "\n",
    "fig, axes = plt.subplots(ncols=2, figsize=(10, 4), sharey=True)\n",
    "\n",
    "plt.sca(axes[0])\n",
    "plt.plot(X, y, \"b.\")\n",
    "plt.plot(x1, y_pred1, \"r.-\", linewidth=2, label=r\"$\\hat{y}$\")\n",
    "plt.axis([0, 1, -0.2, 1.1])\n",
    "plt.xlabel(\"$x_1$\", fontsize=18)\n",
    "plt.ylabel(\"$y$\", fontsize=18, rotation=0)\n",
    "plt.legend(loc=\"upper center\", fontsize=18)\n",
    "plt.title(\"No restrictions\", fontsize=14)\n",
    "\n",
    "plt.sca(axes[1])\n",
    "plt.plot(X, y, \"b.\")\n",
    "plt.plot(x1, y_pred2, \"r.-\", linewidth=2, label=r\"$\\hat{y}$\")\n",
    "plt.axis([0, 1, -0.2, 1.1])\n",
    "plt.xlabel(\"$x_1$\", fontsize=18)\n",
    "plt.title(\"min_samples_leaf={}\".format(tree_reg2.min_samples_leaf), fontsize=14)\n",
    "\n",
    "plt.show()"
   ]
  },
  {
   "cell_type": "markdown",
   "metadata": {
    "id": "RDe5VdMw6jfq"
   },
   "source": [
    "# Exercises"
   ]
  },
  {
   "cell_type": "markdown",
   "metadata": {
    "id": "y6LU3zy66jfq"
   },
   "source": [
    "## Exercise 8\n",
    "Grow a forest."
   ]
  },
  {
   "cell_type": "markdown",
   "metadata": {
    "id": "XQhfy8MV6jfq"
   },
   "source": [
    "a. Continuing the previous exercise, generate 1,000 subsets of the training set, each containing 100 instances selected randomly. Hint: you can use Scikit-Learn's `ShuffleSplit` class for this.\n",
    "\n",
    "Hint: if you struggle for over ten minutes, here is the solution\n",
    "https://docs.google.com/document/d/1bmGiVNeJ8AMBcAg6i2J5_0j4A13gIq2thIxfvmMGnJM/edit?usp=sharing"
   ]
  },
  {
   "cell_type": "code",
   "execution_count": 22,
   "metadata": {
    "colab": {
     "base_uri": "https://localhost:8080/"
    },
    "executionInfo": {
     "elapsed": 373,
     "status": "ok",
     "timestamp": 1613152873269,
     "user": {
      "displayName": "A B M Rafi (Rafi) Sazzad",
      "photoUrl": "",
      "userId": "16735321769566946040"
     },
     "user_tz": 360
    },
    "id": "PUXKgJ-4Yq3Y",
    "outputId": "bbe2c8d3-eb74-44ae-c7ef-9b36320fec75"
   },
   "outputs": [
    {
     "data": {
      "text/plain": [
       "(150, 2)"
      ]
     },
     "execution_count": 22,
     "metadata": {
      "tags": []
     },
     "output_type": "execute_result"
    }
   ],
   "source": [
    "#Going back to the iris data set. Since in last task X,y set to a regressor data set\n",
    "\n",
    "X = iris.data[:, 2:] # petal length and width\n",
    "y = iris.target\n",
    "X.shape"
   ]
  },
  {
   "cell_type": "code",
   "execution_count": 24,
   "metadata": {
    "executionInfo": {
     "elapsed": 348,
     "status": "ok",
     "timestamp": 1613153227503,
     "user": {
      "displayName": "A B M Rafi (Rafi) Sazzad",
      "photoUrl": "",
      "userId": "16735321769566946040"
     },
     "user_tz": 360
    },
    "id": "IJQLERIY6jfr"
   },
   "outputs": [],
   "source": [
    "from sklearn.model_selection import ShuffleSplit\n",
    "from sklearn.model_selection import train_test_split\n",
    "\n",
    "\n",
    "n_trees = 1000\n",
    "n_instances = 100\n",
    "mini_sets = []\n",
    "\n",
    "\n",
    "X_train, X_test, y_train, y_test = train_test_split(X, y, test_size=0.2, random_state=42) # from 150 iris flower instance we are keeping random 30 for the test  \n",
    "#print(len(X_train))\n",
    "\n",
    "rs = ShuffleSplit(n_splits=n_trees, test_size=len(X_train) - n_instances, random_state=42) # test size 20. train size 100. \n",
    "                                                 #n_trees 1000 so 1000 permutation of index is obtained and then splitted into test and train batch according to the size above\n",
    "for mini_train_index, mini_test_index in rs.split(X_train):\n",
    "    # continue here \n",
    "    # fill the mini_sets list with he values for X and y \n",
    "    X_mini_train = X_train[mini_train_index]\n",
    "    y_mini_train = y_train[mini_train_index]\n",
    "    mini_sets.append((X_mini_train,y_mini_train))"
   ]
  },
  {
   "cell_type": "markdown",
   "metadata": {
    "id": "EKnsMc0u6jfr"
   },
   "source": [
    "b. Train one Decision Tree on each subset, using the best hyperparameter values found above. Evaluate these 1,000 Decision Trees on the test set. Since they were trained on smaller sets, these Decision Trees will likely perform worse than the first Decision Tree, achieving only about 80% accuracy."
   ]
  },
  {
   "cell_type": "markdown",
   "metadata": {
    "id": "DuYNA5To6jfr"
   },
   "source": [
    "Hint: if you struggle for over ten minutes, here is the solution\n",
    "\n",
    "https://docs.google.com/document/d/1KOOgvjhJznt8EriCvJMei_zFxuQ3P49s8sRzFxrn9ak/edit?usp=sharing"
   ]
  },
  {
   "cell_type": "code",
   "execution_count": 27,
   "metadata": {
    "colab": {
     "base_uri": "https://localhost:8080/"
    },
    "executionInfo": {
     "elapsed": 4609,
     "status": "ok",
     "timestamp": 1613153480756,
     "user": {
      "displayName": "A B M Rafi (Rafi) Sazzad",
      "photoUrl": "",
      "userId": "16735321769566946040"
     },
     "user_tz": 360
    },
    "id": "e3SXYiYDRtye",
    "outputId": "1b335400-4d37-429c-f387-e7ff653b3ffc"
   },
   "outputs": [
    {
     "name": "stdout",
     "output_type": "stream",
     "text": [
      "Fitting 3 folds for each of 1152 candidates, totalling 3456 fits\n"
     ]
    },
    {
     "name": "stderr",
     "output_type": "stream",
     "text": [
      "[Parallel(n_jobs=1)]: Using backend SequentialBackend with 1 concurrent workers.\n",
      "[Parallel(n_jobs=1)]: Done 3456 out of 3456 | elapsed:    4.2s finished\n"
     ]
    },
    {
     "data": {
      "text/plain": [
       "GridSearchCV(cv=3, error_score=nan,\n",
       "             estimator=DecisionTreeClassifier(ccp_alpha=0.0, class_weight=None,\n",
       "                                              criterion='gini', max_depth=None,\n",
       "                                              max_features=None,\n",
       "                                              max_leaf_nodes=None,\n",
       "                                              min_impurity_decrease=0.0,\n",
       "                                              min_impurity_split=None,\n",
       "                                              min_samples_leaf=1,\n",
       "                                              min_samples_split=2,\n",
       "                                              min_weight_fraction_leaf=0.0,\n",
       "                                              presort='deprecated',\n",
       "                                              random_state=42,\n",
       "                                              splitter='best'),\n",
       "             iid='deprecated', n_jobs=None,\n",
       "             param_grid={'max_depth': [2, 3, 4],\n",
       "                         'max_leaf_nodes': [2, 3, 4, 5, 6, 7, 8, 9, 10, 11, 12,\n",
       "                                            13, 14, 15, 16, 17, 18, 19, 20, 21,\n",
       "                                            22, 23, 24, 25, 26, 27, 28, 29, 30,\n",
       "                                            31, ...],\n",
       "                         'min_samples_split': [2, 3, 4, 5, 6, 7, 8, 9]},\n",
       "             pre_dispatch='2*n_jobs', refit=True, return_train_score=False,\n",
       "             scoring=None, verbose=1)"
      ]
     },
     "execution_count": 27,
     "metadata": {
      "tags": []
     },
     "output_type": "execute_result"
    }
   ],
   "source": [
    "from sklearn.model_selection import GridSearchCV\n",
    "\n",
    "params = {'max_depth' : list(range(2, 5)),'max_leaf_nodes': list(range(2, 50)), 'min_samples_split': list(range(2,10))}\n",
    "grid_search_cv = GridSearchCV(DecisionTreeClassifier(random_state=42), params, verbose=1, cv=3)\n",
    "\n",
    "grid_search_cv.fit(X_train, y_train)"
   ]
  },
  {
   "cell_type": "code",
   "execution_count": 28,
   "metadata": {
    "colab": {
     "base_uri": "https://localhost:8080/"
    },
    "executionInfo": {
     "elapsed": 264,
     "status": "ok",
     "timestamp": 1613153487318,
     "user": {
      "displayName": "A B M Rafi (Rafi) Sazzad",
      "photoUrl": "",
      "userId": "16735321769566946040"
     },
     "user_tz": 360
    },
    "id": "YE6rviBdUcJa",
    "outputId": "663767c5-4059-4f52-d4bd-f8be2a220700"
   },
   "outputs": [
    {
     "data": {
      "text/plain": [
       "DecisionTreeClassifier(ccp_alpha=0.0, class_weight=None, criterion='gini',\n",
       "                       max_depth=2, max_features=None, max_leaf_nodes=3,\n",
       "                       min_impurity_decrease=0.0, min_impurity_split=None,\n",
       "                       min_samples_leaf=1, min_samples_split=2,\n",
       "                       min_weight_fraction_leaf=0.0, presort='deprecated',\n",
       "                       random_state=42, splitter='best')"
      ]
     },
     "execution_count": 28,
     "metadata": {
      "tags": []
     },
     "output_type": "execute_result"
    }
   ],
   "source": [
    "grid_search_cv.best_estimator_"
   ]
  },
  {
   "cell_type": "code",
   "execution_count": 29,
   "metadata": {
    "executionInfo": {
     "elapsed": 1201,
     "status": "ok",
     "timestamp": 1613153626238,
     "user": {
      "displayName": "A B M Rafi (Rafi) Sazzad",
      "photoUrl": "",
      "userId": "16735321769566946040"
     },
     "user_tz": 360
    },
    "id": "gmHeVwi86jfr"
   },
   "outputs": [],
   "source": [
    "from sklearn.base import clone\n",
    "from sklearn.metrics import accuracy_score\n",
    "\n",
    "forest = [clone(grid_search_cv.best_estimator_) for _ in range(n_trees)]\n",
    "#print(forest[:2])\n",
    "accuracy_scores = []\n",
    "\n",
    "for tree, (X_mini_train, y_mini_train) in zip(forest, mini_sets):\n",
    "    # continue here\n",
    "    # for each tree in the forst, fit the values you defined above\n",
    "    tree.fit(X_mini_train,y_mini_train)\n",
    "    # obrain the predictions for each tree\n",
    "    y_pred = tree.predict(X_test)\n",
    "    # calculate the accuracy scores and fill the accuracy_scores list with them. \n",
    "    accuracy_scores.append(accuracy_score(y_test,y_pred))"
   ]
  },
  {
   "cell_type": "markdown",
   "metadata": {
    "id": "RznaYAaB6jfr"
   },
   "source": [
    "What is the mean value of the accuracy scores? "
   ]
  },
  {
   "cell_type": "code",
   "execution_count": 30,
   "metadata": {
    "colab": {
     "base_uri": "https://localhost:8080/"
    },
    "executionInfo": {
     "elapsed": 244,
     "status": "ok",
     "timestamp": 1613153634463,
     "user": {
      "displayName": "A B M Rafi (Rafi) Sazzad",
      "photoUrl": "",
      "userId": "16735321769566946040"
     },
     "user_tz": 360
    },
    "id": "-eRrB5aE6jfr",
    "outputId": "a4374c58-98e8-458d-e821-4e44e4d072af"
   },
   "outputs": [
    {
     "data": {
      "text/plain": [
       "0.9833333333333335"
      ]
     },
     "execution_count": 30,
     "metadata": {
      "tags": []
     },
     "output_type": "execute_result"
    }
   ],
   "source": [
    "np.mean(accuracy_scores)"
   ]
  },
  {
   "cell_type": "markdown",
   "metadata": {
    "id": "w_SQXv-L6jfs"
   },
   "source": [
    "c. Now comes the magic. For each test set instance, generate the predictions of the 1,000 Decision Trees, and keep only the most frequent prediction (you can use SciPy's `mode()` function for this). This gives you _majority-vote predictions_ over the test set."
   ]
  },
  {
   "cell_type": "code",
   "execution_count": 31,
   "metadata": {
    "executionInfo": {
     "elapsed": 269,
     "status": "ok",
     "timestamp": 1613153719736,
     "user": {
      "displayName": "A B M Rafi (Rafi) Sazzad",
      "photoUrl": "",
      "userId": "16735321769566946040"
     },
     "user_tz": 360
    },
    "id": "Hx1h-Scy6jfs"
   },
   "outputs": [],
   "source": [
    "Y_pred = np.empty([n_trees, len(X_test)], dtype=np.uint8) #empty array of dimension 1000,40 Note:Suggested unit8 won't work for this case so I changed it to float64\n",
    "\n",
    "for tree_index, tree in enumerate(forest):\n",
    "    Y_pred[tree_index] = tree.predict(X_test)"
   ]
  },
  {
   "cell_type": "code",
   "execution_count": 32,
   "metadata": {
    "colab": {
     "base_uri": "https://localhost:8080/"
    },
    "executionInfo": {
     "elapsed": 256,
     "status": "ok",
     "timestamp": 1613153727494,
     "user": {
      "displayName": "A B M Rafi (Rafi) Sazzad",
      "photoUrl": "",
      "userId": "16735321769566946040"
     },
     "user_tz": 360
    },
    "id": "-X2yeMHmdNbC",
    "outputId": "8dcad479-515c-4b48-999c-04619bc56f02"
   },
   "outputs": [
    {
     "data": {
      "text/plain": [
       "array([[1, 0, 2, 1, 2, 0, 1, 2, 1, 1, 2, 0, 0, 0, 0, 1, 2, 1, 1, 2, 0, 2,\n",
       "        0, 2, 2, 2, 2, 2, 0, 0],\n",
       "       [1, 0, 2, 1, 1, 0, 1, 2, 1, 1, 2, 0, 0, 0, 0, 1, 2, 1, 1, 2, 0, 2,\n",
       "        0, 2, 2, 2, 2, 2, 0, 0]], dtype=uint8)"
      ]
     },
     "execution_count": 32,
     "metadata": {
      "tags": []
     },
     "output_type": "execute_result"
    }
   ],
   "source": [
    "Y_pred.shape #(1000,40)\n",
    "X_test.shape #(40,1)\n",
    "Y_pred[:2]"
   ]
  },
  {
   "cell_type": "code",
   "execution_count": 34,
   "metadata": {
    "colab": {
     "base_uri": "https://localhost:8080/"
    },
    "executionInfo": {
     "elapsed": 242,
     "status": "ok",
     "timestamp": 1613153755429,
     "user": {
      "displayName": "A B M Rafi (Rafi) Sazzad",
      "photoUrl": "",
      "userId": "16735321769566946040"
     },
     "user_tz": 360
    },
    "id": "PksP9vxj6jfs",
    "outputId": "4b391ba5-a8b7-4aa6-a4e0-0553938d1263"
   },
   "outputs": [
    {
     "data": {
      "text/plain": [
       "array([[1000, 1000, 1000, 1000,  588, 1000, 1000, 1000, 1000, 1000, 1000,\n",
       "        1000, 1000, 1000, 1000,  980, 1000, 1000, 1000, 1000, 1000,  932,\n",
       "        1000, 1000, 1000, 1000, 1000, 1000, 1000, 1000]])"
      ]
     },
     "execution_count": 34,
     "metadata": {
      "tags": []
     },
     "output_type": "execute_result"
    }
   ],
   "source": [
    "from scipy.stats import mode\n",
    "\n",
    "y_pred_majority_votes, n_votes = mode(Y_pred,axis=0)\n",
    "y_pred_majority_votes\n",
    "n_votes"
   ]
  },
  {
   "cell_type": "markdown",
   "metadata": {
    "id": "gJYCw-ZJ6jfs"
   },
   "source": [
    "d. Evaluate these predictions on the test set: you should obtain a slightly higher accuracy than your first model (about 0.5 to 1.5% higher). Congratulations, you have trained a Random Forest classifier!"
   ]
  },
  {
   "cell_type": "code",
   "execution_count": 35,
   "metadata": {
    "colab": {
     "base_uri": "https://localhost:8080/"
    },
    "executionInfo": {
     "elapsed": 390,
     "status": "ok",
     "timestamp": 1613153809539,
     "user": {
      "displayName": "A B M Rafi (Rafi) Sazzad",
      "photoUrl": "",
      "userId": "16735321769566946040"
     },
     "user_tz": 360
    },
    "id": "Lqxsssz66jft",
    "outputId": "a4bffdc7-70bc-4645-9cc5-20b87b7d9ad2"
   },
   "outputs": [
    {
     "data": {
      "text/plain": [
       "1.0"
      ]
     },
     "execution_count": 35,
     "metadata": {
      "tags": []
     },
     "output_type": "execute_result"
    }
   ],
   "source": [
    "accuracy_score(y_test, y_pred_majority_votes.reshape([-1]))"
   ]
  },
  {
   "cell_type": "markdown",
   "metadata": {
    "id": "jNSxLlYi6jft"
   },
   "source": [
    "### Task 9 (Optional, if you end up having extra time )"
   ]
  },
  {
   "cell_type": "markdown",
   "metadata": {
    "id": "mX1sXcjM6jft"
   },
   "source": [
    "Train a `LinearSVC` on a linearly separable dataset. Then train an `SVC` and a `SGDClassifier` on the same dataset. \n",
    "See if you can get them to produce roughly the same model.\n",
    "Hint: continue working with the Iris dataset. "
   ]
  },
  {
   "cell_type": "code",
   "execution_count": null,
   "metadata": {
    "id": "M3lpwWtH6jft"
   },
   "outputs": [],
   "source": [
    "from sklearn.svm import SVC, LinearSVC\n",
    "from sklearn.linear_model import SGDClassifier\n",
    "from sklearn.preprocessing import StandardScaler"
   ]
  },
  {
   "cell_type": "code",
   "execution_count": null,
   "metadata": {
    "id": "vNurGP-C6jft"
   },
   "outputs": [],
   "source": [
    "# lin_clf = \n",
    "# svm_clf = \n",
    "# sgd_clf = "
   ]
  },
  {
   "cell_type": "code",
   "execution_count": null,
   "metadata": {
    "id": "OT3p9RLh6jft"
   },
   "outputs": [],
   "source": [
    "# Compute the slope and bias of each decision boundary\n",
    "\n",
    "# w1 = \n",
    "# b1 = \n",
    "# w2 = \n",
    "# b2 = \n",
    "# w3 = \n",
    "# b3 = "
   ]
  },
  {
   "cell_type": "code",
   "execution_count": null,
   "metadata": {
    "id": "LjcjQ0LX6jft"
   },
   "outputs": [],
   "source": [
    "# Transform the decision boundary lines back to the original scale\n",
    "\n",
    "# line1 = \n",
    "# line2 = \n",
    "# line3 = "
   ]
  },
  {
   "cell_type": "markdown",
   "metadata": {
    "id": "W6YNDvQb6jfu"
   },
   "source": [
    "Use the script below for plotting. "
   ]
  },
  {
   "cell_type": "code",
   "execution_count": null,
   "metadata": {
    "id": "nH4CAIU66jfu"
   },
   "outputs": [],
   "source": [
    "# Plot all three decision boundaries\n",
    "plt.figure(figsize=(11, 4))\n",
    "plt.plot(line1[:, 0], line1[:, 1], \"k:\", label=\"LinearSVC\")\n",
    "plt.plot(line2[:, 0], line2[:, 1], \"b--\", linewidth=2, label=\"SVC\")\n",
    "plt.plot(line3[:, 0], line3[:, 1], \"r-\", label=\"SGDClassifier\")\n",
    "plt.plot(X[:, 0][y==1], X[:, 1][y==1], \"bs\") # label=\"Iris versicolor\"\n",
    "plt.plot(X[:, 0][y==0], X[:, 1][y==0], \"yo\") # label=\"Iris setosa\"\n",
    "plt.xlabel(\"Petal length\", fontsize=14)\n",
    "plt.ylabel(\"Petal width\", fontsize=14)\n",
    "plt.legend(loc=\"upper center\", fontsize=14)\n",
    "plt.axis([0, 5.5, 0, 2])\n",
    "\n",
    "plt.show()"
   ]
  }
 ],
 "metadata": {
  "colab": {
   "name": "03_Decision_Trees_Group16.ipynb",
   "provenance": []
  },
  "kernelspec": {
   "display_name": "Python 3",
   "language": "python",
   "name": "python3"
  },
  "language_info": {
   "codemirror_mode": {
    "name": "ipython",
    "version": 3
   },
   "file_extension": ".py",
   "mimetype": "text/x-python",
   "name": "python",
   "nbconvert_exporter": "python",
   "pygments_lexer": "ipython3",
   "version": "3.7.6"
  },
  "nav_menu": {
   "height": "309px",
   "width": "468px"
  },
  "toc": {
   "navigate_menu": true,
   "number_sections": true,
   "sideBar": true,
   "threshold": 6,
   "toc_cell": false,
   "toc_section_display": "block",
   "toc_window_display": false
  }
 },
 "nbformat": 4,
 "nbformat_minor": 1
}
